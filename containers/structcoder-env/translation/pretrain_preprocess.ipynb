{
 "cells": [
  {
   "cell_type": "code",
   "execution_count": 3,
   "id": "f53b1393",
   "metadata": {},
   "outputs": [],
   "source": [
    "from datasets import load_dataset\n",
    "from tqdm import tqdm\n",
    "from parser import remove_comments_and_docstrings\n",
    "import pandas as pd\n",
    "tqdm.pandas()\n",
    "import numpy as np\n",
    "from parser import DFG_python,DFG_java,DFG_ruby,DFG_go,DFG_php,DFG_javascript,DFG_csharp\n",
    "from parser import (remove_comments_and_docstrings,\n",
    "                   tree_to_token_index,\n",
    "                   index_to_code_token,\n",
    "                   tree_to_variable_index, \n",
    "                   detokenize_code, tree_to_token_nodes)\n",
    "from tree_sitter import Language, Parser\n",
    "import pickle\n",
    "import os\n",
    "from transformers import RobertaTokenizer\n",
    "import matplotlib.pyplot as plt\n",
    "\n",
    "\n",
    "def read_pt_dataset(max_samples_per_split=None):\n",
    "    dataset = load_dataset('code_search_net')\n",
    "    rows = []\n",
    "    \n",
    "    for split in ['train', 'test', 'validation']:\n",
    "        num_samples_in_split = len(dataset[split])\n",
    "        indices = list(range(num_samples_in_split))\n",
    "        if (max_samples_per_split is not None) and (num_samples_in_split>max_samples_per_split):\n",
    "            indices = list(map(int, np.random.choice(indices, max_samples_per_split, replace=False)))\n",
    "        pbar = tqdm(indices)\n",
    "        pbar.set_description('Reading split='+split)\n",
    "        \n",
    "        for i in pbar:\n",
    "            sample = dataset[split][i]\n",
    "            rows.append([sample['func_code_string'], sample['language'], \n",
    "                         sample['func_documentation_string']])\n",
    "            \n",
    "    return pd.DataFrame(rows, columns=['code', 'lang', 'text'])\n",
    "\n",
    "\n",
    "def add_php_ends(code):\n",
    "    if not(code.startswith('<?php')):\n",
    "        code=\"<?php \"+code\n",
    "    if not(code.endswith('?>')):\n",
    "        code=code+\"?>\" \n",
    "    return code\n",
    "\n",
    "\n",
    "def print_lang_dist(langs, total=None):\n",
    "    if total is None:\n",
    "        total = len(langs)\n",
    "    vc = pd.value_counts(langs)\n",
    "    display(pd.DataFrame({'lang':vc.index, 'count':vc.values, 'perc':vc.values/total*100}))\n",
    "\n",
    "    \n",
    "def get_tokenizer_chars():\n",
    "    tokenizer = RobertaTokenizer.from_pretrained('Salesforce/codet5-base')\n",
    "    tokenizer_chars = []\n",
    "    for i in range(tokenizer.vocab_size):\n",
    "        token = tokenizer.decode(i)\n",
    "        if len(token)==1:\n",
    "            tokenizer_chars.append(token)\n",
    "    tokenizer_chars = [c for c in tokenizer_chars if c!='�']\n",
    "    return tokenizer_chars\n",
    "    \n",
    "\n",
    "def preprocess(data):\n",
    "    codes = []\n",
    "    failed_count = 0\n",
    "    failed_langs = []\n",
    "    rows = []\n",
    "    tokenizer_chars = get_tokenizer_chars()\n",
    "    pbar = tqdm(data.itertuples())\n",
    "    for row in pbar:\n",
    "        code = row.code.strip().replace('▁', '_').replace('\\r\\n', '\\n') # step 1\n",
    "        code = ''.join(filter(lambda c:c in tokenizer_chars, code)) # step 2\n",
    "        if row.lang==\"php\":\n",
    "            code = add_php_ends(code) # step 3\n",
    "        try:\n",
    "            code = remove_comments_and_docstrings(code, row.lang) # step 4\n",
    "        except:\n",
    "            failed_count += 1\n",
    "            failed_langs.append(row.lang)\n",
    "            pbar.set_description('failed_count='+str(failed_count))\n",
    "            continue\n",
    "        rows.append([code, row.lang, row.text.strip()])\n",
    "    if failed_count:\n",
    "        print ('Distribution of languages among failed samples for remove_comments_and_docstrings()')\n",
    "        print_lang_dist(failed_langs)\n",
    "    data = pd.DataFrame(rows, columns=['code', 'lang', 'text'])\n",
    "    print ('Distribution of languages after removing samples failing remove_comments_and_docstrings()')\n",
    "    print_lang_dist(data.lang)\n",
    "    return data\n",
    "\n",
    "\n",
    "def extract_structure(code, parser):\n",
    "    # ast\n",
    "    tree = parser[0].parse(bytes(code,'utf8'))    \n",
    "    root_node = tree.root_node  \n",
    "    ast_token_nodes = tree_to_token_nodes(root_node) # leaves\n",
    "    \n",
    "    # dfg\n",
    "    tokens_index = [(node.start_point, node.end_point) for node in ast_token_nodes]\n",
    "    code=code.split('\\n')\n",
    "    code_tokens=[index_to_code_token(x,code) for x in tokens_index] \n",
    "    index_to_code={index:(idx,code_) for idx,(index,code_) in enumerate(zip(tokens_index,code_tokens))}\n",
    "    try:\n",
    "        DFG,_ = parser[1](root_node,index_to_code,{}) \n",
    "    except:\n",
    "        DFG = []\n",
    "    for d in DFG:\n",
    "        assert (d[2]=='comesFrom' or d[2]=='computedFrom')\n",
    "    DFG = [(d[1], d[4]) for d in DFG if (len(d[4])>0)] # left comes from right\n",
    "    return code_tokens, ast_token_nodes, DFG\n",
    "\n",
    "\n",
    "def format_node_ranges(code, nodes):\n",
    "    line_lens = [len(line)+1 for line in code.split('\\n')]\n",
    "    line_starts = [0] + list(np.cumsum(line_lens))\n",
    "    return [(line_starts[node.start_point[0]]+node.start_point[1],\n",
    "             line_starts[node.end_point[0]]+node.end_point[1]) for node in nodes]\n",
    "\n",
    "    \n",
    "def length_stats(s, title=None):\n",
    "    try:\n",
    "        if type(s.iloc[0])==str: # a list encoded as str\n",
    "            lens = s.apply(lambda x:x.count(',')+1)\n",
    "        else: # a list\n",
    "            lens = s.apply(len)\n",
    "    except:\n",
    "        lens = s # s contains lengths\n",
    "    y = np.arange(100)\n",
    "    x = lens.quantile(y/100)\n",
    "    plt.figure()\n",
    "    plt.plot(x,y)\n",
    "    plt.title(title)\n",
    "    plt.show()\n",
    "    \n",
    "    \n",
    "def add_structure(data):\n",
    "    dfg_function={\n",
    "    'python':DFG_python,\n",
    "    'java':DFG_java,\n",
    "    'php':DFG_php,\n",
    "    'javascript':DFG_javascript,\n",
    "    'go':DFG_go,\n",
    "    'ruby':DFG_ruby\n",
    "    }\n",
    "\n",
    "    parsers={}        \n",
    "    for lang in dfg_function:\n",
    "        LANGUAGE = Language('parser/my-languages2.so', lang)\n",
    "        parser = Parser()\n",
    "        parser.set_language(LANGUAGE) \n",
    "        parser = [parser,dfg_function[lang]]    \n",
    "        parsers[lang]= parser\n",
    "        \n",
    "    ast_leaf_tokens, ast_leaves, ast_leaf_ranges, dfg_edges = [], [], [], []\n",
    "    for row in tqdm(data.itertuples()):\n",
    "        curr_code_tokens, curr_ast_leaves, curr_dfg_edges = extract_structure(row.code, parsers[row.lang])\n",
    "        ast_leaf_tokens.append(curr_code_tokens)\n",
    "        ast_leaves.append(curr_ast_leaves)\n",
    "        ast_leaf_ranges.append(format_node_ranges(row.code, curr_ast_leaves))\n",
    "        dfg_edges.append(curr_dfg_edges)\n",
    "        \n",
    "    data['ast_leaves'] = ast_leaves # list of leaf nodes\n",
    "    data['dfg_edges'] = dfg_edges # list of \"left leaf node index comes from right leaf nodes indices\"\n",
    "    data['ast_leaf_tokens'] = ast_leaf_tokens # list of code substrings corresponding to each leaf\n",
    "    data['ast_leaf_ranges'] = ast_leaf_ranges # list of (start,end) in code for each leaf node\n",
    "    \n",
    "    print ('Distribution of languages among codes with failed/empty DFG')\n",
    "    print_lang_dist(data.loc[data['dfg_edges'].apply(len)==0].lang, total=len(data))\n",
    "    \n",
    "    \n",
    "def tokenize_codes_texts(texts, batch_size=1024):\n",
    "    tokenizer = RobertaTokenizer.from_pretrained('Salesforce/codet5-base')\n",
    "    N = len(texts)\n",
    "    tokenized_texts = []\n",
    "    for start in tqdm(range(0, len(texts),batch_size)):\n",
    "        tokenized_texts += tokenizer(texts[start:start+batch_size]).input_ids\n",
    "    return tokenized_texts\n",
    "\n",
    "    \n",
    "def get_code_tokens_ranges(data):\n",
    "    tokenizer = RobertaTokenizer.from_pretrained('Salesforce/codet5-base')\n",
    "    match  = {lang:[0,0] for lang in data['lang'].unique()}\n",
    "    pbar = tqdm(data.itertuples())\n",
    "    ranges = []\n",
    "    \n",
    "    for row in pbar:\n",
    "        code_tokens = [tokenizer.decode(ct) for ct in row.code_tokens][1:-1] # 1:-1 to remove <s> and </s>\n",
    "        code2 = ''.join(code_tokens) # misses some spaces that are in row.code\n",
    "        code = row.code\n",
    "        \n",
    "        # map each position in code2 to a position in code\n",
    "        code2_to_code = []\n",
    "        j=0\n",
    "        for i in range(len(code2)):\n",
    "            if code2[i]==code[j]:\n",
    "                code2_to_code.append(j)\n",
    "                j += 1\n",
    "            elif code2[i]==code[j+1]: # if code2 missed a space\n",
    "                code2_to_code.append(j+1)\n",
    "                j += 2\n",
    "            else:\n",
    "                raise Exception('Character \"'+code2[i]+'\" from tokenized code not found in code.')\n",
    "            \n",
    "        # map each code token to a range in code\n",
    "        code2_idx = 0\n",
    "        curr_ranges = []\n",
    "        for ct in code_tokens:\n",
    "            s,e = code2_idx, code2_idx+len(ct)\n",
    "            code2_idx = e\n",
    "            curr_ranges.append((min(code2_to_code[s:e]),1+max(code2_to_code[s:e])))\n",
    "        ranges.append([None]+curr_ranges+[None]) # first and last for <s> and </s>\n",
    "        \n",
    "    data['code_tokens_ranges'] = ranges\n",
    "    \n",
    "    \n",
    "def overlap(s1,e1,s2,e2):\n",
    "    return s1<=s2<e1 or s2<=s1<e2\n",
    "    \n",
    "def get_leaf_code_token_indices(data):\n",
    "    ast_leaf_token_idxs = []\n",
    "    for row in tqdm(data.itertuples()):\n",
    "        j = 1\n",
    "        ast_leaf_token_idxs.append([])\n",
    "        code_tokens_last_idx = len(row.code_tokens)-1\n",
    "        for s,e in row.ast_leaf_ranges:\n",
    "            if s==e: # there are leaves with start_point=end_point\n",
    "                ast_leaf_token_idxs[-1].append([])\n",
    "                continue\n",
    "            while not(overlap(s,e,row.code_tokens_ranges[j][0],row.code_tokens_ranges[j][1])):\n",
    "                j += 1\n",
    "            jj = j\n",
    "            curr_leaf_token_idxs = []\n",
    "            while overlap(s,e,row.code_tokens_ranges[jj][0],row.code_tokens_ranges[jj][1]):\n",
    "                curr_leaf_token_idxs.append(jj)\n",
    "                jj += 1\n",
    "                if jj==code_tokens_last_idx:\n",
    "                    break\n",
    "            ast_leaf_token_idxs[-1].append(curr_leaf_token_idxs)\n",
    "    data['ast_leaf_code_token_idxs'] = ast_leaf_token_idxs\n",
    "    \n",
    "\n",
    "def get_lr_path(leaf):\n",
    "    path = [leaf]\n",
    "    while path[-1].parent is not None:\n",
    "        path.append(path[-1].parent)\n",
    "    return path\n",
    "\n",
    "\n",
    "def get_ll_sim(p1, p2): \n",
    "    common = 1\n",
    "    for i in range(2, min(len(p1), len(p2))+1):\n",
    "        if p1[-i]==p2[-i]:\n",
    "            common += 1\n",
    "        else:\n",
    "            break\n",
    "    return common*common / (len(p1)*len(p2))   \n",
    "\n",
    "\n",
    "def process_dfg_edges(data):\n",
    "    dfg_node_code_token_idxs = []\n",
    "    dfg_edges = []\n",
    "    for row in tqdm(data.itertuples()):\n",
    "        if len(row.dfg_edges)>0:\n",
    "            nodes = sorted(list(set(np.concatenate([[left]+right for left,right in row.dfg_edges]))))\n",
    "        else:\n",
    "            nodes = []\n",
    "        node_to_idx = {k:i for i,k in enumerate(nodes)}\n",
    "        dfg_node_code_token_idxs.append( [row.ast_leaf_code_token_idxs[i] for i in nodes] )\n",
    "        dfg_edges.append( [(node_to_idx[left], [node_to_idx[r] for r in right]) for left,right in row.dfg_edges] )\n",
    "    data['dfg_edges'] = dfg_edges\n",
    "    data['dfg_node_code_token_idxs'] = dfg_node_code_token_idxs\n",
    "    \n",
    "def get_ast_lr_paths_and_ll_sim(data):\n",
    "    sims = []\n",
    "    lr_paths = []\n",
    "    all_node_types = set()\n",
    "    for i,row in tqdm(enumerate(data.itertuples())):\n",
    "        L = min(len(row.ast_leaves), 512)\n",
    "        curr_paths = [get_lr_path(leaf) for leaf in row.ast_leaves]\n",
    "        curr_sims = np.ones((L,L))\n",
    "        for i in range(L-1):\n",
    "            for j in range(i+1,L):\n",
    "                curr_sims[i,j] = curr_sims[j,i] = get_ll_sim(curr_paths[i], curr_paths[j])\n",
    "        sims.append(';'.join([','.join(list(map(str,row))) for row in curr_sims]))\n",
    "        lr_paths.append([[node.type for node in path] for path in curr_paths])\n",
    "        all_node_types.update(set(np.concatenate(lr_paths[-1])))\n",
    "    data.drop(columns=['ast_leaves'], inplace=True)\n",
    "    data['ll_sims'] = sims\n",
    "    data['lr_paths_types'] = lr_paths\n",
    "    return all_node_types\n",
    "\n",
    "def parse_list_of_lists(s, type_=int):\n",
    "    list_of_lists = s[1:-2].split('], ')\n",
    "    if type_==str:\n",
    "        list_of_lists = [[t[1:-1].replace('\\\\n','\\n').replace('\\\\\\\\','\\\\') for  t in x[1:].split(', ')] \\\n",
    "                         for x in list_of_lists]\n",
    "    elif type_==int:\n",
    "        list_of_lists = [[int(t) for  t in x[1:].split(', ')] for x in list_of_lists]\n",
    "    else:\n",
    "        raise Exception('Unknown value for type_')\n",
    "    return list_of_lists"
   ]
  },
  {
   "cell_type": "code",
   "execution_count": 2,
   "id": "14dcc6fa",
   "metadata": {
    "scrolled": true
   },
   "outputs": [
    {
     "name": "stderr",
     "output_type": "stream",
     "text": [
      "No config specified, defaulting to: code_search_net/all\n",
      "Found cached dataset code_search_net (/home/tsaisindhura/.cache/huggingface/datasets/code_search_net/all/1.0.0/80a244ab541c6b2125350b764dc5c2b715f65f00de7a56107a28915fac173a27)\n",
      "100%|████████████████████████████████████████████████████████████████████████████████████| 3/3 [00:00<00:00, 282.77it/s]\n",
      "Reading split=train: 100%|██████████████████████████████████████████████████| 1880853/1880853 [04:47<00:00, 6543.35it/s]\n",
      "Reading split=test: 100%|█████████████████████████████████████████████████████| 100529/100529 [00:15<00:00, 6447.07it/s]\n",
      "Reading split=validation: 100%|█████████████████████████████████████████████████| 89154/89154 [00:14<00:00, 6112.06it/s]\n",
      "failed_count=2: : 2070536it [24:51, 1387.81it/s]"
     ]
    },
    {
     "name": "stdout",
     "output_type": "stream",
     "text": [
      "Distribution of languages among failed samples for remove_comments_and_docstrings()\n"
     ]
    },
    {
     "name": "stderr",
     "output_type": "stream",
     "text": [
      "\n"
     ]
    },
    {
     "data": {
      "text/html": [
       "<div>\n",
       "<style scoped>\n",
       "    .dataframe tbody tr th:only-of-type {\n",
       "        vertical-align: middle;\n",
       "    }\n",
       "\n",
       "    .dataframe tbody tr th {\n",
       "        vertical-align: top;\n",
       "    }\n",
       "\n",
       "    .dataframe thead th {\n",
       "        text-align: right;\n",
       "    }\n",
       "</style>\n",
       "<table border=\"1\" class=\"dataframe\">\n",
       "  <thead>\n",
       "    <tr style=\"text-align: right;\">\n",
       "      <th></th>\n",
       "      <th>lang</th>\n",
       "      <th>count</th>\n",
       "      <th>perc</th>\n",
       "    </tr>\n",
       "  </thead>\n",
       "  <tbody>\n",
       "    <tr>\n",
       "      <th>0</th>\n",
       "      <td>python</td>\n",
       "      <td>2</td>\n",
       "      <td>100.0</td>\n",
       "    </tr>\n",
       "  </tbody>\n",
       "</table>\n",
       "</div>"
      ],
      "text/plain": [
       "     lang  count   perc\n",
       "0  python      2  100.0"
      ]
     },
     "metadata": {},
     "output_type": "display_data"
    },
    {
     "name": "stdout",
     "output_type": "stream",
     "text": [
      "Distribution of languages after removing samples failing remove_comments_and_docstrings()\n"
     ]
    },
    {
     "data": {
      "text/html": [
       "<div>\n",
       "<style scoped>\n",
       "    .dataframe tbody tr th:only-of-type {\n",
       "        vertical-align: middle;\n",
       "    }\n",
       "\n",
       "    .dataframe tbody tr th {\n",
       "        vertical-align: top;\n",
       "    }\n",
       "\n",
       "    .dataframe thead th {\n",
       "        text-align: right;\n",
       "    }\n",
       "</style>\n",
       "<table border=\"1\" class=\"dataframe\">\n",
       "  <thead>\n",
       "    <tr style=\"text-align: right;\">\n",
       "      <th></th>\n",
       "      <th>lang</th>\n",
       "      <th>count</th>\n",
       "      <th>perc</th>\n",
       "    </tr>\n",
       "  </thead>\n",
       "  <tbody>\n",
       "    <tr>\n",
       "      <th>0</th>\n",
       "      <td>php</td>\n",
       "      <td>578118</td>\n",
       "      <td>27.921203</td>\n",
       "    </tr>\n",
       "    <tr>\n",
       "      <th>1</th>\n",
       "      <td>java</td>\n",
       "      <td>496688</td>\n",
       "      <td>23.988401</td>\n",
       "    </tr>\n",
       "    <tr>\n",
       "      <th>2</th>\n",
       "      <td>python</td>\n",
       "      <td>457459</td>\n",
       "      <td>22.093769</td>\n",
       "    </tr>\n",
       "    <tr>\n",
       "      <th>3</th>\n",
       "      <td>go</td>\n",
       "      <td>346365</td>\n",
       "      <td>16.728293</td>\n",
       "    </tr>\n",
       "    <tr>\n",
       "      <th>4</th>\n",
       "      <td>javascript</td>\n",
       "      <td>138625</td>\n",
       "      <td>6.695133</td>\n",
       "    </tr>\n",
       "    <tr>\n",
       "      <th>5</th>\n",
       "      <td>ruby</td>\n",
       "      <td>53279</td>\n",
       "      <td>2.573201</td>\n",
       "    </tr>\n",
       "  </tbody>\n",
       "</table>\n",
       "</div>"
      ],
      "text/plain": [
       "         lang   count       perc\n",
       "0         php  578118  27.921203\n",
       "1        java  496688  23.988401\n",
       "2      python  457459  22.093769\n",
       "3          go  346365  16.728293\n",
       "4  javascript  138625   6.695133\n",
       "5        ruby   53279   2.573201"
      ]
     },
     "metadata": {},
     "output_type": "display_data"
    },
    {
     "name": "stderr",
     "output_type": "stream",
     "text": [
      "2070534it [39:44, 868.23it/s] \n"
     ]
    },
    {
     "name": "stdout",
     "output_type": "stream",
     "text": [
      "Distribution of languages among codes with failed/empty DFG\n"
     ]
    },
    {
     "data": {
      "text/html": [
       "<div>\n",
       "<style scoped>\n",
       "    .dataframe tbody tr th:only-of-type {\n",
       "        vertical-align: middle;\n",
       "    }\n",
       "\n",
       "    .dataframe tbody tr th {\n",
       "        vertical-align: top;\n",
       "    }\n",
       "\n",
       "    .dataframe thead th {\n",
       "        text-align: right;\n",
       "    }\n",
       "</style>\n",
       "<table border=\"1\" class=\"dataframe\">\n",
       "  <thead>\n",
       "    <tr style=\"text-align: right;\">\n",
       "      <th></th>\n",
       "      <th>lang</th>\n",
       "      <th>count</th>\n",
       "      <th>perc</th>\n",
       "    </tr>\n",
       "  </thead>\n",
       "  <tbody>\n",
       "    <tr>\n",
       "      <th>0</th>\n",
       "      <td>php</td>\n",
       "      <td>32294</td>\n",
       "      <td>1.559694</td>\n",
       "    </tr>\n",
       "    <tr>\n",
       "      <th>1</th>\n",
       "      <td>java</td>\n",
       "      <td>4655</td>\n",
       "      <td>0.224821</td>\n",
       "    </tr>\n",
       "    <tr>\n",
       "      <th>2</th>\n",
       "      <td>go</td>\n",
       "      <td>1989</td>\n",
       "      <td>0.096062</td>\n",
       "    </tr>\n",
       "    <tr>\n",
       "      <th>3</th>\n",
       "      <td>javascript</td>\n",
       "      <td>1120</td>\n",
       "      <td>0.054092</td>\n",
       "    </tr>\n",
       "    <tr>\n",
       "      <th>4</th>\n",
       "      <td>ruby</td>\n",
       "      <td>543</td>\n",
       "      <td>0.026225</td>\n",
       "    </tr>\n",
       "    <tr>\n",
       "      <th>5</th>\n",
       "      <td>python</td>\n",
       "      <td>285</td>\n",
       "      <td>0.013765</td>\n",
       "    </tr>\n",
       "  </tbody>\n",
       "</table>\n",
       "</div>"
      ],
      "text/plain": [
       "         lang  count      perc\n",
       "0         php  32294  1.559694\n",
       "1        java   4655  0.224821\n",
       "2          go   1989  0.096062\n",
       "3  javascript   1120  0.054092\n",
       "4        ruby    543  0.026225\n",
       "5      python    285  0.013765"
      ]
     },
     "metadata": {},
     "output_type": "display_data"
    },
    {
     "name": "stderr",
     "output_type": "stream",
     "text": [
      "  0%|                                                                                          | 0/2023 [00:00<?, ?it/s]Token indices sequence length is longer than the specified maximum sequence length for this model (719 > 512). Running this sequence through the model will result in indexing errors\n",
      "100%|███████████████████████████████████████████████████████████████████████████████| 2023/2023 [26:01<00:00,  1.30it/s]\n",
      "  0%|                                                                                          | 0/2023 [00:00<?, ?it/s]Token indices sequence length is longer than the specified maximum sequence length for this model (664 > 512). Running this sequence through the model will result in indexing errors\n",
      "100%|███████████████████████████████████████████████████████████████████████████████| 2023/2023 [10:59<00:00,  3.07it/s]\n"
     ]
    },
    {
     "data": {
      "image/png": "[encoded data removed]",
      "text/plain": [
       "<Figure size 432x288 with 1 Axes>"
      ]
     },
     "metadata": {
      "needs_background": "light"
     },
     "output_type": "display_data"
    },
    {
     "data": {
      "image/png": "[encoded data removed]",
      "text/plain": [
       "<Figure size 432x288 with 1 Axes>"
      ]
     },
     "metadata": {
      "needs_background": "light"
     },
     "output_type": "display_data"
    },
    {
     "name": "stderr",
     "output_type": "stream",
     "text": [
      "2070534it [31:17, 1102.90it/s]\n",
      "2070534it [19:34, 1763.01it/s] \n",
      "100%|██████████████████████████████████████████████████████████████████████| 2070534/2070534 [00:40<00:00, 50515.08it/s]\n",
      "100%|█████████████████████████████████████████████████████████████████████| 2070534/2070534 [00:14<00:00, 145034.98it/s]\n"
     ]
    },
    {
     "name": "stdout",
     "output_type": "stream",
     "text": [
      "Working on from_0.parquet\n"
     ]
    },
    {
     "name": "stderr",
     "output_type": "stream",
     "text": [
      "10000it [04:20, 38.44it/s]\n",
      "10000it [00:00, 11158.24it/s]\n"
     ]
    },
    {
     "name": "stdout",
     "output_type": "stream",
     "text": [
      "Working on from_10000.parquet\n"
     ]
    },
    {
     "name": "stderr",
     "output_type": "stream",
     "text": [
      "10000it [04:12, 39.61it/s]\n",
      "10000it [00:01, 9327.23it/s]\n"
     ]
    },
    {
     "name": "stdout",
     "output_type": "stream",
     "text": [
      "Working on from_20000.parquet\n"
     ]
    },
    {
     "name": "stderr",
     "output_type": "stream",
     "text": [
      "10000it [04:19, 38.59it/s]\n",
      "10000it [00:01, 9834.14it/s]\n"
     ]
    },
    {
     "name": "stdout",
     "output_type": "stream",
     "text": [
      "Working on from_30000.parquet\n"
     ]
    },
    {
     "name": "stderr",
     "output_type": "stream",
     "text": [
      "10000it [04:25, 37.68it/s]\n",
      "10000it [00:01, 9210.77it/s]\n"
     ]
    },
    {
     "name": "stdout",
     "output_type": "stream",
     "text": [
      "Working on from_40000.parquet\n"
     ]
    },
    {
     "name": "stderr",
     "output_type": "stream",
     "text": [
      "10000it [04:10, 39.98it/s]\n",
      "10000it [00:00, 11353.22it/s]\n"
     ]
    },
    {
     "name": "stdout",
     "output_type": "stream",
     "text": [
      "Working on from_50000.parquet\n"
     ]
    },
    {
     "name": "stderr",
     "output_type": "stream",
     "text": [
      "10000it [04:04, 40.90it/s]\n",
      "10000it [00:00, 10931.55it/s]\n"
     ]
    },
    {
     "name": "stdout",
     "output_type": "stream",
     "text": [
      "Working on from_60000.parquet\n"
     ]
    },
    {
     "name": "stderr",
     "output_type": "stream",
     "text": [
      "10000it [04:01, 41.38it/s]\n",
      "10000it [00:00, 10758.59it/s]\n"
     ]
    },
    {
     "name": "stdout",
     "output_type": "stream",
     "text": [
      "Working on from_70000.parquet\n"
     ]
    },
    {
     "name": "stderr",
     "output_type": "stream",
     "text": [
      "10000it [03:51, 43.15it/s]\n",
      "10000it [00:00, 10930.26it/s]\n"
     ]
    },
    {
     "name": "stdout",
     "output_type": "stream",
     "text": [
      "Working on from_80000.parquet\n"
     ]
    },
    {
     "name": "stderr",
     "output_type": "stream",
     "text": [
      "10000it [03:59, 41.70it/s]\n",
      "10000it [00:00, 10168.56it/s]\n"
     ]
    },
    {
     "name": "stdout",
     "output_type": "stream",
     "text": [
      "Working on from_90000.parquet\n"
     ]
    },
    {
     "name": "stderr",
     "output_type": "stream",
     "text": [
      "10000it [04:03, 41.05it/s]\n",
      "10000it [00:00, 11145.01it/s]\n"
     ]
    },
    {
     "name": "stdout",
     "output_type": "stream",
     "text": [
      "Working on from_100000.parquet\n"
     ]
    },
    {
     "name": "stderr",
     "output_type": "stream",
     "text": [
      "10000it [04:01, 41.38it/s]\n",
      "10000it [00:00, 10820.39it/s]\n"
     ]
    },
    {
     "name": "stdout",
     "output_type": "stream",
     "text": [
      "Working on from_110000.parquet\n"
     ]
    },
    {
     "name": "stderr",
     "output_type": "stream",
     "text": [
      "10000it [03:50, 43.36it/s]\n",
      "10000it [00:00, 11545.92it/s]\n"
     ]
    },
    {
     "name": "stdout",
     "output_type": "stream",
     "text": [
      "Working on from_120000.parquet\n"
     ]
    },
    {
     "name": "stderr",
     "output_type": "stream",
     "text": [
      "10000it [04:08, 40.31it/s]\n",
      "10000it [00:00, 10826.48it/s]\n"
     ]
    },
    {
     "name": "stdout",
     "output_type": "stream",
     "text": [
      "Working on from_130000.parquet\n"
     ]
    },
    {
     "name": "stderr",
     "output_type": "stream",
     "text": [
      "10000it [03:56, 42.37it/s]\n",
      "10000it [00:01, 9807.11it/s]\n"
     ]
    },
    {
     "name": "stdout",
     "output_type": "stream",
     "text": [
      "Working on from_140000.parquet\n"
     ]
    },
    {
     "name": "stderr",
     "output_type": "stream",
     "text": [
      "10000it [03:54, 42.70it/s]\n",
      "10000it [00:00, 11366.35it/s]\n"
     ]
    },
    {
     "name": "stdout",
     "output_type": "stream",
     "text": [
      "Working on from_150000.parquet\n"
     ]
    },
    {
     "name": "stderr",
     "output_type": "stream",
     "text": [
      "10000it [03:55, 42.46it/s]\n",
      "10000it [00:00, 10859.17it/s]\n"
     ]
    },
    {
     "name": "stdout",
     "output_type": "stream",
     "text": [
      "Working on from_160000.parquet\n"
     ]
    },
    {
     "name": "stderr",
     "output_type": "stream",
     "text": [
      "10000it [04:00, 41.61it/s]\n",
      "10000it [00:00, 11158.38it/s]\n"
     ]
    },
    {
     "name": "stdout",
     "output_type": "stream",
     "text": [
      "Working on from_170000.parquet\n"
     ]
    },
    {
     "name": "stderr",
     "output_type": "stream",
     "text": [
      "10000it [03:51, 43.16it/s]\n",
      "10000it [00:00, 11739.76it/s]\n"
     ]
    },
    {
     "name": "stdout",
     "output_type": "stream",
     "text": [
      "Working on from_180000.parquet\n"
     ]
    },
    {
     "name": "stderr",
     "output_type": "stream",
     "text": [
      "10000it [03:49, 43.67it/s]\n",
      "10000it [00:00, 11249.10it/s]\n"
     ]
    },
    {
     "name": "stdout",
     "output_type": "stream",
     "text": [
      "Working on from_190000.parquet\n"
     ]
    },
    {
     "name": "stderr",
     "output_type": "stream",
     "text": [
      "10000it [03:39, 45.50it/s]\n",
      "10000it [00:00, 11432.20it/s]\n"
     ]
    },
    {
     "name": "stdout",
     "output_type": "stream",
     "text": [
      "Working on from_200000.parquet\n"
     ]
    },
    {
     "name": "stderr",
     "output_type": "stream",
     "text": [
      "10000it [03:45, 44.35it/s]\n",
      "10000it [00:00, 11757.06it/s]\n"
     ]
    },
    {
     "name": "stdout",
     "output_type": "stream",
     "text": [
      "Working on from_210000.parquet\n"
     ]
    },
    {
     "name": "stderr",
     "output_type": "stream",
     "text": [
      "10000it [03:58, 41.88it/s]\n",
      "10000it [00:00, 10581.68it/s]\n"
     ]
    },
    {
     "name": "stdout",
     "output_type": "stream",
     "text": [
      "Working on from_220000.parquet\n"
     ]
    },
    {
     "name": "stderr",
     "output_type": "stream",
     "text": [
      "10000it [03:59, 41.76it/s]\n",
      "10000it [00:00, 10672.04it/s]\n"
     ]
    },
    {
     "name": "stdout",
     "output_type": "stream",
     "text": [
      "Working on from_230000.parquet\n"
     ]
    },
    {
     "name": "stderr",
     "output_type": "stream",
     "text": [
      "10000it [03:48, 43.78it/s]\n",
      "10000it [00:00, 11846.81it/s]\n"
     ]
    },
    {
     "name": "stdout",
     "output_type": "stream",
     "text": [
      "Working on from_240000.parquet\n"
     ]
    },
    {
     "name": "stderr",
     "output_type": "stream",
     "text": [
      "10000it [04:00, 41.53it/s]\n",
      "10000it [00:00, 11294.38it/s]\n"
     ]
    },
    {
     "name": "stdout",
     "output_type": "stream",
     "text": [
      "Working on from_250000.parquet\n"
     ]
    },
    {
     "name": "stderr",
     "output_type": "stream",
     "text": [
      "10000it [04:10, 39.88it/s]\n",
      "10000it [00:01, 9103.56it/s]\n"
     ]
    },
    {
     "name": "stdout",
     "output_type": "stream",
     "text": [
      "Working on from_260000.parquet\n"
     ]
    },
    {
     "name": "stderr",
     "output_type": "stream",
     "text": [
      "10000it [04:12, 39.65it/s]\n",
      "10000it [00:01, 9460.41it/s]\n"
     ]
    },
    {
     "name": "stdout",
     "output_type": "stream",
     "text": [
      "Working on from_270000.parquet\n"
     ]
    },
    {
     "name": "stderr",
     "output_type": "stream",
     "text": [
      "10000it [04:16, 39.06it/s]\n",
      "10000it [00:00, 10340.76it/s]\n"
     ]
    },
    {
     "name": "stdout",
     "output_type": "stream",
     "text": [
      "Working on from_280000.parquet\n"
     ]
    },
    {
     "name": "stderr",
     "output_type": "stream",
     "text": [
      "10000it [04:34, 36.43it/s]\n",
      "10000it [00:00, 11614.05it/s]\n"
     ]
    },
    {
     "name": "stdout",
     "output_type": "stream",
     "text": [
      "Working on from_290000.parquet\n"
     ]
    },
    {
     "name": "stderr",
     "output_type": "stream",
     "text": [
      "10000it [04:10, 39.96it/s]\n",
      "10000it [00:00, 10367.76it/s]\n"
     ]
    },
    {
     "name": "stdout",
     "output_type": "stream",
     "text": [
      "Working on from_300000.parquet\n"
     ]
    },
    {
     "name": "stderr",
     "output_type": "stream",
     "text": [
      "10000it [04:04, 40.93it/s]\n",
      "10000it [00:00, 10903.52it/s]\n"
     ]
    },
    {
     "name": "stdout",
     "output_type": "stream",
     "text": [
      "Working on from_310000.parquet\n"
     ]
    },
    {
     "name": "stderr",
     "output_type": "stream",
     "text": [
      "10000it [04:15, 39.14it/s]\n",
      "10000it [00:00, 11475.71it/s]\n"
     ]
    },
    {
     "name": "stdout",
     "output_type": "stream",
     "text": [
      "Working on from_320000.parquet\n"
     ]
    },
    {
     "name": "stderr",
     "output_type": "stream",
     "text": [
      "10000it [04:07, 40.46it/s]\n",
      "10000it [00:00, 10484.51it/s]\n"
     ]
    },
    {
     "name": "stdout",
     "output_type": "stream",
     "text": [
      "Working on from_330000.parquet\n"
     ]
    },
    {
     "name": "stderr",
     "output_type": "stream",
     "text": [
      "10000it [04:01, 41.48it/s]\n",
      "10000it [00:01, 9086.57it/s]\n"
     ]
    },
    {
     "name": "stdout",
     "output_type": "stream",
     "text": [
      "Working on from_340000.parquet\n"
     ]
    },
    {
     "name": "stderr",
     "output_type": "stream",
     "text": [
      "10000it [03:55, 42.47it/s]\n",
      "10000it [00:00, 11191.68it/s]\n"
     ]
    },
    {
     "name": "stdout",
     "output_type": "stream",
     "text": [
      "Working on from_350000.parquet\n"
     ]
    },
    {
     "name": "stderr",
     "output_type": "stream",
     "text": [
      "10000it [03:50, 43.34it/s]\n",
      "10000it [00:00, 11981.28it/s]\n"
     ]
    },
    {
     "name": "stdout",
     "output_type": "stream",
     "text": [
      "Working on from_360000.parquet\n"
     ]
    },
    {
     "name": "stderr",
     "output_type": "stream",
     "text": [
      "10000it [03:44, 44.61it/s]\n",
      "10000it [00:00, 11726.14it/s]\n"
     ]
    },
    {
     "name": "stdout",
     "output_type": "stream",
     "text": [
      "Working on from_370000.parquet\n"
     ]
    },
    {
     "name": "stderr",
     "output_type": "stream",
     "text": [
      "10000it [03:55, 42.38it/s]\n",
      "10000it [00:00, 10891.90it/s]\n"
     ]
    },
    {
     "name": "stdout",
     "output_type": "stream",
     "text": [
      "Working on from_380000.parquet\n"
     ]
    },
    {
     "name": "stderr",
     "output_type": "stream",
     "text": [
      "10000it [03:48, 43.67it/s]\n",
      "10000it [00:00, 11673.08it/s]\n"
     ]
    },
    {
     "name": "stdout",
     "output_type": "stream",
     "text": [
      "Working on from_390000.parquet\n"
     ]
    },
    {
     "name": "stderr",
     "output_type": "stream",
     "text": [
      "10000it [03:53, 42.86it/s]\n",
      "10000it [00:00, 11923.78it/s]\n"
     ]
    },
    {
     "name": "stdout",
     "output_type": "stream",
     "text": [
      "Working on from_400000.parquet\n"
     ]
    },
    {
     "name": "stderr",
     "output_type": "stream",
     "text": [
      "10000it [03:54, 42.71it/s]\n",
      "10000it [00:00, 12088.90it/s]\n"
     ]
    },
    {
     "name": "stdout",
     "output_type": "stream",
     "text": [
      "Working on from_410000.parquet\n"
     ]
    },
    {
     "name": "stderr",
     "output_type": "stream",
     "text": [
      "10000it [04:18, 38.75it/s]\n",
      "10000it [00:00, 11440.64it/s]\n"
     ]
    },
    {
     "name": "stdout",
     "output_type": "stream",
     "text": [
      "Working on from_420000.parquet\n"
     ]
    },
    {
     "name": "stderr",
     "output_type": "stream",
     "text": [
      "10000it [03:52, 43.01it/s]\n",
      "10000it [00:00, 11545.90it/s]\n"
     ]
    },
    {
     "name": "stdout",
     "output_type": "stream",
     "text": [
      "Working on from_430000.parquet\n"
     ]
    },
    {
     "name": "stderr",
     "output_type": "stream",
     "text": [
      "10000it [03:50, 43.44it/s]\n",
      "10000it [00:00, 11721.36it/s]\n"
     ]
    },
    {
     "name": "stdout",
     "output_type": "stream",
     "text": [
      "Working on from_440000.parquet\n"
     ]
    },
    {
     "name": "stderr",
     "output_type": "stream",
     "text": [
      "10000it [03:45, 44.33it/s]\n",
      "10000it [00:00, 10655.33it/s]\n"
     ]
    },
    {
     "name": "stdout",
     "output_type": "stream",
     "text": [
      "Working on from_450000.parquet\n"
     ]
    },
    {
     "name": "stderr",
     "output_type": "stream",
     "text": [
      "10000it [03:54, 42.71it/s]\n",
      "10000it [00:00, 11573.26it/s]\n"
     ]
    },
    {
     "name": "stdout",
     "output_type": "stream",
     "text": [
      "Working on from_460000.parquet\n"
     ]
    },
    {
     "name": "stderr",
     "output_type": "stream",
     "text": [
      "10000it [03:52, 43.09it/s]\n",
      "10000it [00:00, 11601.57it/s]\n"
     ]
    },
    {
     "name": "stdout",
     "output_type": "stream",
     "text": [
      "Working on from_470000.parquet\n"
     ]
    },
    {
     "name": "stderr",
     "output_type": "stream",
     "text": [
      "10000it [03:58, 41.96it/s]\n",
      "10000it [00:00, 11639.42it/s]\n"
     ]
    },
    {
     "name": "stdout",
     "output_type": "stream",
     "text": [
      "Working on from_480000.parquet\n"
     ]
    },
    {
     "name": "stderr",
     "output_type": "stream",
     "text": [
      "10000it [03:39, 45.52it/s]\n",
      "10000it [00:00, 12039.20it/s]\n"
     ]
    },
    {
     "name": "stdout",
     "output_type": "stream",
     "text": [
      "Working on from_490000.parquet\n"
     ]
    },
    {
     "name": "stderr",
     "output_type": "stream",
     "text": [
      "10000it [03:57, 42.13it/s]\n",
      "10000it [00:00, 11573.50it/s]\n"
     ]
    },
    {
     "name": "stdout",
     "output_type": "stream",
     "text": [
      "Working on from_500000.parquet\n"
     ]
    },
    {
     "name": "stderr",
     "output_type": "stream",
     "text": [
      "10000it [03:52, 43.07it/s]\n",
      "10000it [00:00, 11446.16it/s]\n"
     ]
    },
    {
     "name": "stdout",
     "output_type": "stream",
     "text": [
      "Working on from_510000.parquet\n"
     ]
    },
    {
     "name": "stderr",
     "output_type": "stream",
     "text": [
      "10000it [03:54, 42.61it/s]\n",
      "10000it [00:00, 11189.96it/s]\n"
     ]
    },
    {
     "name": "stdout",
     "output_type": "stream",
     "text": [
      "Working on from_520000.parquet\n"
     ]
    },
    {
     "name": "stderr",
     "output_type": "stream",
     "text": [
      "10000it [03:50, 43.33it/s]\n",
      "10000it [00:00, 11396.01it/s]\n"
     ]
    },
    {
     "name": "stdout",
     "output_type": "stream",
     "text": [
      "Working on from_530000.parquet\n"
     ]
    },
    {
     "name": "stderr",
     "output_type": "stream",
     "text": [
      "10000it [03:43, 44.71it/s]\n",
      "10000it [00:00, 11648.13it/s]\n"
     ]
    },
    {
     "name": "stdout",
     "output_type": "stream",
     "text": [
      "Working on from_540000.parquet\n"
     ]
    },
    {
     "name": "stderr",
     "output_type": "stream",
     "text": [
      "10000it [03:48, 43.78it/s]\n",
      "10000it [00:00, 12050.49it/s]\n"
     ]
    },
    {
     "name": "stdout",
     "output_type": "stream",
     "text": [
      "Working on from_550000.parquet\n"
     ]
    },
    {
     "name": "stderr",
     "output_type": "stream",
     "text": [
      "10000it [06:02, 27.60it/s]\n",
      "10000it [00:00, 12024.22it/s]\n"
     ]
    },
    {
     "name": "stdout",
     "output_type": "stream",
     "text": [
      "Working on from_560000.parquet\n"
     ]
    },
    {
     "name": "stderr",
     "output_type": "stream",
     "text": [
      "10000it [03:38, 45.85it/s]\n",
      "10000it [00:00, 12547.99it/s]\n"
     ]
    },
    {
     "name": "stdout",
     "output_type": "stream",
     "text": [
      "Working on from_570000.parquet\n"
     ]
    },
    {
     "name": "stderr",
     "output_type": "stream",
     "text": [
      "10000it [03:47, 43.92it/s]\n",
      "10000it [00:00, 11592.70it/s]\n"
     ]
    },
    {
     "name": "stdout",
     "output_type": "stream",
     "text": [
      "Working on from_580000.parquet\n"
     ]
    },
    {
     "name": "stderr",
     "output_type": "stream",
     "text": [
      "10000it [03:47, 43.87it/s]\n",
      "10000it [00:00, 11931.61it/s]\n"
     ]
    },
    {
     "name": "stdout",
     "output_type": "stream",
     "text": [
      "Working on from_590000.parquet\n"
     ]
    },
    {
     "name": "stderr",
     "output_type": "stream",
     "text": [
      "10000it [03:54, 42.59it/s]\n",
      "10000it [00:00, 11604.36it/s]\n"
     ]
    },
    {
     "name": "stdout",
     "output_type": "stream",
     "text": [
      "Working on from_600000.parquet\n"
     ]
    },
    {
     "name": "stderr",
     "output_type": "stream",
     "text": [
      "10000it [03:58, 41.95it/s]\n",
      "10000it [00:00, 11319.53it/s]\n"
     ]
    },
    {
     "name": "stdout",
     "output_type": "stream",
     "text": [
      "Working on from_610000.parquet\n"
     ]
    },
    {
     "name": "stderr",
     "output_type": "stream",
     "text": [
      "10000it [03:49, 43.48it/s]\n",
      "10000it [00:00, 11555.29it/s]\n"
     ]
    },
    {
     "name": "stdout",
     "output_type": "stream",
     "text": [
      "Working on from_620000.parquet\n"
     ]
    },
    {
     "name": "stderr",
     "output_type": "stream",
     "text": [
      "10000it [03:55, 42.49it/s]\n",
      "10000it [00:00, 10940.87it/s]\n"
     ]
    },
    {
     "name": "stdout",
     "output_type": "stream",
     "text": [
      "Working on from_630000.parquet\n"
     ]
    },
    {
     "name": "stderr",
     "output_type": "stream",
     "text": [
      "10000it [04:11, 39.73it/s]\n",
      "10000it [00:00, 11511.88it/s]\n"
     ]
    },
    {
     "name": "stdout",
     "output_type": "stream",
     "text": [
      "Working on from_640000.parquet\n"
     ]
    },
    {
     "name": "stderr",
     "output_type": "stream",
     "text": [
      "10000it [03:49, 43.51it/s]\n",
      "10000it [00:00, 11699.04it/s]\n"
     ]
    },
    {
     "name": "stdout",
     "output_type": "stream",
     "text": [
      "Working on from_650000.parquet\n"
     ]
    },
    {
     "name": "stderr",
     "output_type": "stream",
     "text": [
      "10000it [03:59, 41.73it/s]\n",
      "10000it [00:00, 11520.52it/s]\n"
     ]
    },
    {
     "name": "stdout",
     "output_type": "stream",
     "text": [
      "Working on from_660000.parquet\n"
     ]
    },
    {
     "name": "stderr",
     "output_type": "stream",
     "text": [
      "10000it [03:44, 44.58it/s]\n",
      "10000it [00:00, 12148.08it/s]\n"
     ]
    },
    {
     "name": "stdout",
     "output_type": "stream",
     "text": [
      "Working on from_670000.parquet\n"
     ]
    },
    {
     "name": "stderr",
     "output_type": "stream",
     "text": [
      "10000it [03:47, 43.98it/s]\n",
      "10000it [00:00, 11554.63it/s]\n"
     ]
    },
    {
     "name": "stdout",
     "output_type": "stream",
     "text": [
      "Working on from_680000.parquet\n"
     ]
    },
    {
     "name": "stderr",
     "output_type": "stream",
     "text": [
      "10000it [03:49, 43.63it/s]\n",
      "10000it [00:00, 10985.06it/s]\n"
     ]
    },
    {
     "name": "stdout",
     "output_type": "stream",
     "text": [
      "Working on from_690000.parquet\n"
     ]
    },
    {
     "name": "stderr",
     "output_type": "stream",
     "text": [
      "10000it [03:47, 43.89it/s]\n",
      "10000it [00:00, 11942.35it/s]\n"
     ]
    },
    {
     "name": "stdout",
     "output_type": "stream",
     "text": [
      "Working on from_700000.parquet\n"
     ]
    },
    {
     "name": "stderr",
     "output_type": "stream",
     "text": [
      "10000it [03:49, 43.60it/s]\n",
      "10000it [00:00, 11352.11it/s]\n"
     ]
    },
    {
     "name": "stdout",
     "output_type": "stream",
     "text": [
      "Working on from_710000.parquet\n"
     ]
    },
    {
     "name": "stderr",
     "output_type": "stream",
     "text": [
      "10000it [03:45, 44.43it/s]\n",
      "10000it [00:00, 12112.83it/s]\n"
     ]
    },
    {
     "name": "stdout",
     "output_type": "stream",
     "text": [
      "Working on from_720000.parquet\n"
     ]
    },
    {
     "name": "stderr",
     "output_type": "stream",
     "text": [
      "10000it [03:48, 43.82it/s]\n",
      "10000it [00:00, 11298.85it/s]\n"
     ]
    },
    {
     "name": "stdout",
     "output_type": "stream",
     "text": [
      "Working on from_730000.parquet\n"
     ]
    },
    {
     "name": "stderr",
     "output_type": "stream",
     "text": [
      "10000it [03:47, 43.97it/s]\n",
      "10000it [00:00, 11249.82it/s]\n"
     ]
    },
    {
     "name": "stdout",
     "output_type": "stream",
     "text": [
      "Working on from_740000.parquet\n"
     ]
    },
    {
     "name": "stderr",
     "output_type": "stream",
     "text": [
      "10000it [03:59, 41.70it/s]\n",
      "10000it [00:00, 10865.71it/s]\n"
     ]
    },
    {
     "name": "stdout",
     "output_type": "stream",
     "text": [
      "Working on from_750000.parquet\n"
     ]
    },
    {
     "name": "stderr",
     "output_type": "stream",
     "text": [
      "10000it [04:00, 41.62it/s]\n",
      "10000it [00:01, 9732.69it/s]\n"
     ]
    },
    {
     "name": "stdout",
     "output_type": "stream",
     "text": [
      "Working on from_760000.parquet\n"
     ]
    },
    {
     "name": "stderr",
     "output_type": "stream",
     "text": [
      "10000it [04:13, 39.48it/s]\n",
      "10000it [00:00, 11117.08it/s]\n"
     ]
    },
    {
     "name": "stdout",
     "output_type": "stream",
     "text": [
      "Working on from_770000.parquet\n"
     ]
    },
    {
     "name": "stderr",
     "output_type": "stream",
     "text": [
      "10000it [04:25, 37.61it/s]\n",
      "10000it [00:00, 11245.38it/s]\n"
     ]
    },
    {
     "name": "stdout",
     "output_type": "stream",
     "text": [
      "Working on from_780000.parquet\n"
     ]
    },
    {
     "name": "stderr",
     "output_type": "stream",
     "text": [
      "10000it [03:41, 45.13it/s]\n",
      "10000it [00:00, 11768.72it/s]\n"
     ]
    },
    {
     "name": "stdout",
     "output_type": "stream",
     "text": [
      "Working on from_790000.parquet\n"
     ]
    },
    {
     "name": "stderr",
     "output_type": "stream",
     "text": [
      "10000it [04:09, 40.04it/s]\n",
      "10000it [00:00, 10542.04it/s]\n"
     ]
    },
    {
     "name": "stdout",
     "output_type": "stream",
     "text": [
      "Working on from_800000.parquet\n"
     ]
    },
    {
     "name": "stderr",
     "output_type": "stream",
     "text": [
      "10000it [04:43, 35.27it/s]\n",
      "10000it [00:02, 3706.29it/s]\n"
     ]
    },
    {
     "name": "stdout",
     "output_type": "stream",
     "text": [
      "Working on from_810000.parquet\n"
     ]
    },
    {
     "name": "stderr",
     "output_type": "stream",
     "text": [
      "10000it [04:01, 41.44it/s]\n",
      "10000it [00:00, 11195.30it/s]\n"
     ]
    },
    {
     "name": "stdout",
     "output_type": "stream",
     "text": [
      "Working on from_820000.parquet\n"
     ]
    },
    {
     "name": "stderr",
     "output_type": "stream",
     "text": [
      "10000it [03:59, 41.77it/s]\n",
      "10000it [00:00, 11431.32it/s]\n"
     ]
    },
    {
     "name": "stdout",
     "output_type": "stream",
     "text": [
      "Working on from_830000.parquet\n"
     ]
    },
    {
     "name": "stderr",
     "output_type": "stream",
     "text": [
      "10000it [03:53, 42.80it/s]\n",
      "10000it [00:00, 11197.06it/s]\n"
     ]
    },
    {
     "name": "stdout",
     "output_type": "stream",
     "text": [
      "Working on from_840000.parquet\n"
     ]
    },
    {
     "name": "stderr",
     "output_type": "stream",
     "text": [
      "10000it [03:56, 42.35it/s]\n",
      "10000it [00:00, 11361.57it/s]\n"
     ]
    },
    {
     "name": "stdout",
     "output_type": "stream",
     "text": [
      "Working on from_850000.parquet\n"
     ]
    },
    {
     "name": "stderr",
     "output_type": "stream",
     "text": [
      "10000it [03:51, 43.17it/s]\n",
      "10000it [00:00, 11501.89it/s]\n"
     ]
    },
    {
     "name": "stdout",
     "output_type": "stream",
     "text": [
      "Working on from_860000.parquet\n"
     ]
    },
    {
     "name": "stderr",
     "output_type": "stream",
     "text": [
      "10000it [03:46, 44.06it/s]\n",
      "10000it [00:00, 11379.73it/s]\n"
     ]
    },
    {
     "name": "stdout",
     "output_type": "stream",
     "text": [
      "Working on from_870000.parquet\n"
     ]
    },
    {
     "name": "stderr",
     "output_type": "stream",
     "text": [
      "10000it [03:45, 44.33it/s]\n",
      "10000it [00:00, 12064.03it/s]\n"
     ]
    },
    {
     "name": "stdout",
     "output_type": "stream",
     "text": [
      "Working on from_880000.parquet\n"
     ]
    },
    {
     "name": "stderr",
     "output_type": "stream",
     "text": [
      "10000it [03:45, 44.38it/s]\n",
      "10000it [00:00, 10938.07it/s]\n"
     ]
    },
    {
     "name": "stdout",
     "output_type": "stream",
     "text": [
      "Working on from_890000.parquet\n"
     ]
    },
    {
     "name": "stderr",
     "output_type": "stream",
     "text": [
      "10000it [03:49, 43.59it/s]\n",
      "10000it [00:00, 11296.61it/s]\n"
     ]
    },
    {
     "name": "stdout",
     "output_type": "stream",
     "text": [
      "Working on from_900000.parquet\n"
     ]
    },
    {
     "name": "stderr",
     "output_type": "stream",
     "text": [
      "10000it [03:48, 43.81it/s]\n",
      "10000it [00:00, 10832.36it/s]\n"
     ]
    },
    {
     "name": "stdout",
     "output_type": "stream",
     "text": [
      "Working on from_910000.parquet\n"
     ]
    },
    {
     "name": "stderr",
     "output_type": "stream",
     "text": [
      "10000it [03:48, 43.68it/s]\n",
      "10000it [00:00, 11355.44it/s]\n"
     ]
    },
    {
     "name": "stdout",
     "output_type": "stream",
     "text": [
      "Working on from_920000.parquet\n"
     ]
    },
    {
     "name": "stderr",
     "output_type": "stream",
     "text": [
      "10000it [04:05, 40.73it/s]\n",
      "10000it [00:00, 11630.71it/s]\n"
     ]
    },
    {
     "name": "stdout",
     "output_type": "stream",
     "text": [
      "Working on from_930000.parquet\n"
     ]
    },
    {
     "name": "stderr",
     "output_type": "stream",
     "text": [
      "10000it [03:49, 43.50it/s]\n",
      "10000it [00:00, 11541.54it/s]\n"
     ]
    },
    {
     "name": "stdout",
     "output_type": "stream",
     "text": [
      "Working on from_940000.parquet\n"
     ]
    },
    {
     "name": "stderr",
     "output_type": "stream",
     "text": [
      "10000it [03:50, 43.43it/s]\n",
      "10000it [00:00, 11447.65it/s]\n"
     ]
    },
    {
     "name": "stdout",
     "output_type": "stream",
     "text": [
      "Working on from_950000.parquet\n"
     ]
    },
    {
     "name": "stderr",
     "output_type": "stream",
     "text": [
      "10000it [03:56, 42.36it/s]\n",
      "10000it [00:00, 11144.91it/s]\n"
     ]
    },
    {
     "name": "stdout",
     "output_type": "stream",
     "text": [
      "Working on from_960000.parquet\n"
     ]
    },
    {
     "name": "stderr",
     "output_type": "stream",
     "text": [
      "10000it [03:53, 42.89it/s]\n",
      "10000it [00:00, 11491.78it/s]\n"
     ]
    },
    {
     "name": "stdout",
     "output_type": "stream",
     "text": [
      "Working on from_970000.parquet\n"
     ]
    },
    {
     "name": "stderr",
     "output_type": "stream",
     "text": [
      "10000it [05:10, 32.24it/s]\n",
      "10000it [00:00, 10585.42it/s]\n"
     ]
    },
    {
     "name": "stdout",
     "output_type": "stream",
     "text": [
      "Working on from_980000.parquet\n"
     ]
    },
    {
     "name": "stderr",
     "output_type": "stream",
     "text": [
      "10000it [04:11, 39.76it/s]\n",
      "10000it [00:01, 9415.90it/s]\n"
     ]
    },
    {
     "name": "stdout",
     "output_type": "stream",
     "text": [
      "Working on from_990000.parquet\n"
     ]
    },
    {
     "name": "stderr",
     "output_type": "stream",
     "text": [
      "10000it [04:20, 38.40it/s]\n",
      "10000it [00:00, 11457.11it/s]\n"
     ]
    },
    {
     "name": "stdout",
     "output_type": "stream",
     "text": [
      "Working on from_1000000.parquet\n"
     ]
    },
    {
     "name": "stderr",
     "output_type": "stream",
     "text": [
      "10000it [04:21, 38.18it/s]\n",
      "10000it [00:00, 11057.28it/s]\n"
     ]
    },
    {
     "name": "stdout",
     "output_type": "stream",
     "text": [
      "Working on from_1010000.parquet\n"
     ]
    },
    {
     "name": "stderr",
     "output_type": "stream",
     "text": [
      "10000it [04:20, 38.43it/s]\n",
      "10000it [00:00, 11533.62it/s]\n"
     ]
    },
    {
     "name": "stdout",
     "output_type": "stream",
     "text": [
      "Working on from_1020000.parquet\n"
     ]
    },
    {
     "name": "stderr",
     "output_type": "stream",
     "text": [
      "10000it [04:09, 40.11it/s]\n",
      "10000it [00:01, 9303.18it/s]\n"
     ]
    },
    {
     "name": "stdout",
     "output_type": "stream",
     "text": [
      "Working on from_1030000.parquet\n"
     ]
    },
    {
     "name": "stderr",
     "output_type": "stream",
     "text": [
      "10000it [04:17, 38.90it/s]\n",
      "10000it [00:00, 11108.97it/s]\n"
     ]
    },
    {
     "name": "stdout",
     "output_type": "stream",
     "text": [
      "Working on from_1040000.parquet\n"
     ]
    },
    {
     "name": "stderr",
     "output_type": "stream",
     "text": [
      "10000it [04:16, 38.93it/s]\n",
      "10000it [00:01, 9717.12it/s]\n"
     ]
    },
    {
     "name": "stdout",
     "output_type": "stream",
     "text": [
      "Working on from_1050000.parquet\n"
     ]
    },
    {
     "name": "stderr",
     "output_type": "stream",
     "text": [
      "10000it [04:09, 40.08it/s]\n",
      "10000it [00:00, 11442.70it/s]\n"
     ]
    },
    {
     "name": "stdout",
     "output_type": "stream",
     "text": [
      "Working on from_1060000.parquet\n"
     ]
    },
    {
     "name": "stderr",
     "output_type": "stream",
     "text": [
      "10000it [05:31, 30.14it/s]\n",
      "10000it [00:01, 9677.60it/s]\n"
     ]
    },
    {
     "name": "stdout",
     "output_type": "stream",
     "text": [
      "Working on from_1070000.parquet\n"
     ]
    },
    {
     "name": "stderr",
     "output_type": "stream",
     "text": [
      "10000it [03:56, 42.34it/s]\n",
      "10000it [00:00, 11297.76it/s]\n"
     ]
    },
    {
     "name": "stdout",
     "output_type": "stream",
     "text": [
      "Working on from_1080000.parquet\n"
     ]
    },
    {
     "name": "stderr",
     "output_type": "stream",
     "text": [
      "10000it [03:46, 44.07it/s]\n",
      "10000it [00:00, 11277.67it/s]\n"
     ]
    },
    {
     "name": "stdout",
     "output_type": "stream",
     "text": [
      "Working on from_1090000.parquet\n"
     ]
    },
    {
     "name": "stderr",
     "output_type": "stream",
     "text": [
      "10000it [03:49, 43.64it/s]\n",
      "10000it [00:00, 11572.75it/s]\n"
     ]
    },
    {
     "name": "stdout",
     "output_type": "stream",
     "text": [
      "Working on from_1100000.parquet\n"
     ]
    },
    {
     "name": "stderr",
     "output_type": "stream",
     "text": [
      "10000it [03:53, 42.83it/s]\n",
      "10000it [00:00, 11170.32it/s]\n"
     ]
    },
    {
     "name": "stdout",
     "output_type": "stream",
     "text": [
      "Working on from_1110000.parquet\n"
     ]
    },
    {
     "name": "stderr",
     "output_type": "stream",
     "text": [
      "10000it [03:46, 44.18it/s]\n",
      "10000it [00:00, 11682.99it/s]\n"
     ]
    },
    {
     "name": "stdout",
     "output_type": "stream",
     "text": [
      "Working on from_1120000.parquet\n"
     ]
    },
    {
     "name": "stderr",
     "output_type": "stream",
     "text": [
      "10000it [03:44, 44.46it/s]\n",
      "10000it [00:00, 11638.00it/s]\n"
     ]
    },
    {
     "name": "stdout",
     "output_type": "stream",
     "text": [
      "Working on from_1130000.parquet\n"
     ]
    },
    {
     "name": "stderr",
     "output_type": "stream",
     "text": [
      "10000it [03:49, 43.63it/s]\n",
      "10000it [00:00, 11464.68it/s]\n"
     ]
    },
    {
     "name": "stdout",
     "output_type": "stream",
     "text": [
      "Working on from_1140000.parquet\n"
     ]
    },
    {
     "name": "stderr",
     "output_type": "stream",
     "text": [
      "10000it [03:49, 43.51it/s]\n",
      "10000it [00:00, 11621.46it/s]\n"
     ]
    },
    {
     "name": "stdout",
     "output_type": "stream",
     "text": [
      "Working on from_1150000.parquet\n"
     ]
    },
    {
     "name": "stderr",
     "output_type": "stream",
     "text": [
      "10000it [03:46, 44.07it/s]\n",
      "10000it [00:00, 12231.83it/s]\n"
     ]
    },
    {
     "name": "stdout",
     "output_type": "stream",
     "text": [
      "Working on from_1160000.parquet\n"
     ]
    },
    {
     "name": "stderr",
     "output_type": "stream",
     "text": [
      "10000it [03:48, 43.72it/s]\n",
      "10000it [00:00, 11318.46it/s]\n"
     ]
    },
    {
     "name": "stdout",
     "output_type": "stream",
     "text": [
      "Working on from_1170000.parquet\n"
     ]
    },
    {
     "name": "stderr",
     "output_type": "stream",
     "text": [
      "10000it [03:44, 44.47it/s]\n",
      "10000it [00:00, 11989.07it/s]\n"
     ]
    },
    {
     "name": "stdout",
     "output_type": "stream",
     "text": [
      "Working on from_1180000.parquet\n"
     ]
    },
    {
     "name": "stderr",
     "output_type": "stream",
     "text": [
      "10000it [03:48, 43.74it/s]\n",
      "10000it [00:00, 11792.23it/s]\n"
     ]
    },
    {
     "name": "stdout",
     "output_type": "stream",
     "text": [
      "Working on from_1190000.parquet\n"
     ]
    },
    {
     "name": "stderr",
     "output_type": "stream",
     "text": [
      "10000it [03:54, 42.58it/s]\n",
      "10000it [00:00, 11814.34it/s]\n"
     ]
    },
    {
     "name": "stdout",
     "output_type": "stream",
     "text": [
      "Working on from_1200000.parquet\n"
     ]
    },
    {
     "name": "stderr",
     "output_type": "stream",
     "text": [
      "10000it [03:54, 42.67it/s]\n",
      "10000it [00:00, 11728.97it/s]\n"
     ]
    },
    {
     "name": "stdout",
     "output_type": "stream",
     "text": [
      "Working on from_1210000.parquet\n"
     ]
    },
    {
     "name": "stderr",
     "output_type": "stream",
     "text": [
      "10000it [03:57, 42.17it/s]\n",
      "10000it [00:00, 11511.80it/s]\n"
     ]
    },
    {
     "name": "stdout",
     "output_type": "stream",
     "text": [
      "Working on from_1220000.parquet\n"
     ]
    },
    {
     "name": "stderr",
     "output_type": "stream",
     "text": [
      "10000it [04:07, 40.46it/s]\n",
      "10000it [00:01, 7808.96it/s]\n"
     ]
    },
    {
     "name": "stdout",
     "output_type": "stream",
     "text": [
      "Working on from_1230000.parquet\n"
     ]
    },
    {
     "name": "stderr",
     "output_type": "stream",
     "text": [
      "10000it [04:43, 35.31it/s]\n",
      "10000it [00:01, 9162.89it/s]\n"
     ]
    },
    {
     "name": "stdout",
     "output_type": "stream",
     "text": [
      "Working on from_1240000.parquet\n"
     ]
    },
    {
     "name": "stderr",
     "output_type": "stream",
     "text": [
      "10000it [04:02, 41.28it/s]\n",
      "10000it [00:00, 11126.37it/s]\n"
     ]
    },
    {
     "name": "stdout",
     "output_type": "stream",
     "text": [
      "Working on from_1250000.parquet\n"
     ]
    },
    {
     "name": "stderr",
     "output_type": "stream",
     "text": [
      "10000it [04:02, 41.24it/s]\n",
      "10000it [00:00, 11877.98it/s]\n"
     ]
    },
    {
     "name": "stdout",
     "output_type": "stream",
     "text": [
      "Working on from_1260000.parquet\n"
     ]
    },
    {
     "name": "stderr",
     "output_type": "stream",
     "text": [
      "10000it [04:03, 41.07it/s]\n",
      "10000it [00:00, 11980.15it/s]\n"
     ]
    },
    {
     "name": "stdout",
     "output_type": "stream",
     "text": [
      "Working on from_1270000.parquet\n"
     ]
    },
    {
     "name": "stderr",
     "output_type": "stream",
     "text": [
      "10000it [04:11, 39.80it/s]\n",
      "10000it [00:00, 11684.49it/s]\n"
     ]
    },
    {
     "name": "stdout",
     "output_type": "stream",
     "text": [
      "Working on from_1280000.parquet\n"
     ]
    },
    {
     "name": "stderr",
     "output_type": "stream",
     "text": [
      "10000it [04:10, 39.94it/s]\n",
      "10000it [00:00, 11022.65it/s]\n"
     ]
    },
    {
     "name": "stdout",
     "output_type": "stream",
     "text": [
      "Working on from_1290000.parquet\n"
     ]
    },
    {
     "name": "stderr",
     "output_type": "stream",
     "text": [
      "10000it [04:07, 40.48it/s]\n",
      "10000it [00:01, 9490.16it/s]\n"
     ]
    },
    {
     "name": "stdout",
     "output_type": "stream",
     "text": [
      "Working on from_1300000.parquet\n"
     ]
    },
    {
     "name": "stderr",
     "output_type": "stream",
     "text": [
      "10000it [05:16, 31.57it/s]\n",
      "10000it [00:02, 3461.24it/s]\n"
     ]
    },
    {
     "name": "stdout",
     "output_type": "stream",
     "text": [
      "Working on from_1310000.parquet\n"
     ]
    },
    {
     "name": "stderr",
     "output_type": "stream",
     "text": [
      "10000it [04:17, 38.78it/s]\n",
      "10000it [00:00, 11669.02it/s]\n"
     ]
    },
    {
     "name": "stdout",
     "output_type": "stream",
     "text": [
      "Working on from_1320000.parquet\n"
     ]
    },
    {
     "name": "stderr",
     "output_type": "stream",
     "text": [
      "10000it [04:17, 38.86it/s]\n",
      "10000it [00:00, 10194.16it/s]\n"
     ]
    },
    {
     "name": "stdout",
     "output_type": "stream",
     "text": [
      "Working on from_1330000.parquet\n"
     ]
    },
    {
     "name": "stderr",
     "output_type": "stream",
     "text": [
      "10000it [04:17, 38.90it/s]\n",
      "10000it [00:01, 9254.17it/s]\n"
     ]
    },
    {
     "name": "stdout",
     "output_type": "stream",
     "text": [
      "Working on from_1340000.parquet\n"
     ]
    },
    {
     "name": "stderr",
     "output_type": "stream",
     "text": [
      "10000it [04:13, 39.52it/s]\n",
      "10000it [00:01, 9600.79it/s]\n"
     ]
    },
    {
     "name": "stdout",
     "output_type": "stream",
     "text": [
      "Working on from_1350000.parquet\n"
     ]
    },
    {
     "name": "stderr",
     "output_type": "stream",
     "text": [
      "10000it [04:14, 39.29it/s]\n",
      "10000it [00:00, 10470.18it/s]\n"
     ]
    },
    {
     "name": "stdout",
     "output_type": "stream",
     "text": [
      "Working on from_1360000.parquet\n"
     ]
    },
    {
     "name": "stderr",
     "output_type": "stream",
     "text": [
      "10000it [06:49, 24.44it/s]\n",
      "10000it [00:00, 12022.46it/s]\n"
     ]
    },
    {
     "name": "stdout",
     "output_type": "stream",
     "text": [
      "Working on from_1370000.parquet\n"
     ]
    },
    {
     "name": "stderr",
     "output_type": "stream",
     "text": [
      "10000it [04:05, 40.68it/s]\n",
      "10000it [00:00, 11260.14it/s]\n"
     ]
    },
    {
     "name": "stdout",
     "output_type": "stream",
     "text": [
      "Working on from_1380000.parquet\n"
     ]
    },
    {
     "name": "stderr",
     "output_type": "stream",
     "text": [
      "10000it [04:20, 38.33it/s]\n",
      "10000it [00:00, 11212.26it/s]\n"
     ]
    },
    {
     "name": "stdout",
     "output_type": "stream",
     "text": [
      "Working on from_1390000.parquet\n"
     ]
    },
    {
     "name": "stderr",
     "output_type": "stream",
     "text": [
      "10000it [04:00, 41.64it/s]\n",
      "10000it [00:00, 12139.85it/s]\n"
     ]
    },
    {
     "name": "stdout",
     "output_type": "stream",
     "text": [
      "Working on from_1400000.parquet\n"
     ]
    },
    {
     "name": "stderr",
     "output_type": "stream",
     "text": [
      "10000it [03:59, 41.72it/s]\n",
      "10000it [00:00, 11885.70it/s]\n"
     ]
    },
    {
     "name": "stdout",
     "output_type": "stream",
     "text": [
      "Working on from_1410000.parquet\n"
     ]
    },
    {
     "name": "stderr",
     "output_type": "stream",
     "text": [
      "10000it [04:21, 38.18it/s]\n",
      "10000it [00:01, 9705.02it/s]\n"
     ]
    },
    {
     "name": "stdout",
     "output_type": "stream",
     "text": [
      "Working on from_1420000.parquet\n"
     ]
    },
    {
     "name": "stderr",
     "output_type": "stream",
     "text": [
      "10000it [04:14, 39.28it/s]\n",
      "10000it [00:00, 11974.55it/s]\n"
     ]
    },
    {
     "name": "stdout",
     "output_type": "stream",
     "text": [
      "Working on from_1430000.parquet\n"
     ]
    },
    {
     "name": "stderr",
     "output_type": "stream",
     "text": [
      "10000it [04:13, 39.43it/s]\n",
      "10000it [00:00, 11435.96it/s]\n"
     ]
    },
    {
     "name": "stdout",
     "output_type": "stream",
     "text": [
      "Working on from_1440000.parquet\n"
     ]
    },
    {
     "name": "stderr",
     "output_type": "stream",
     "text": [
      "10000it [04:16, 38.92it/s]\n",
      "10000it [00:00, 10793.17it/s]\n"
     ]
    },
    {
     "name": "stdout",
     "output_type": "stream",
     "text": [
      "Working on from_1450000.parquet\n"
     ]
    },
    {
     "name": "stderr",
     "output_type": "stream",
     "text": [
      "10000it [03:51, 43.13it/s]\n",
      "10000it [00:00, 12042.86it/s]\n"
     ]
    },
    {
     "name": "stdout",
     "output_type": "stream",
     "text": [
      "Working on from_1460000.parquet\n"
     ]
    },
    {
     "name": "stderr",
     "output_type": "stream",
     "text": [
      "10000it [04:06, 40.63it/s]\n",
      "10000it [00:00, 11896.31it/s]\n"
     ]
    },
    {
     "name": "stdout",
     "output_type": "stream",
     "text": [
      "Working on from_1470000.parquet\n"
     ]
    },
    {
     "name": "stderr",
     "output_type": "stream",
     "text": [
      "10000it [03:58, 41.99it/s]\n",
      "10000it [00:00, 10955.21it/s]\n"
     ]
    },
    {
     "name": "stdout",
     "output_type": "stream",
     "text": [
      "Working on from_1480000.parquet\n"
     ]
    },
    {
     "name": "stderr",
     "output_type": "stream",
     "text": [
      "10000it [03:54, 42.64it/s]\n",
      "10000it [00:00, 11605.88it/s]\n"
     ]
    },
    {
     "name": "stdout",
     "output_type": "stream",
     "text": [
      "Working on from_1490000.parquet\n"
     ]
    },
    {
     "name": "stderr",
     "output_type": "stream",
     "text": [
      "10000it [03:58, 42.01it/s]\n",
      "10000it [00:00, 11577.33it/s]\n"
     ]
    },
    {
     "name": "stdout",
     "output_type": "stream",
     "text": [
      "Working on from_1500000.parquet\n"
     ]
    },
    {
     "name": "stderr",
     "output_type": "stream",
     "text": [
      "10000it [03:54, 42.61it/s]\n",
      "10000it [00:00, 11645.37it/s]\n"
     ]
    },
    {
     "name": "stdout",
     "output_type": "stream",
     "text": [
      "Working on from_1510000.parquet\n"
     ]
    },
    {
     "name": "stderr",
     "output_type": "stream",
     "text": [
      "10000it [03:52, 43.04it/s]\n",
      "10000it [00:00, 11713.85it/s]\n"
     ]
    },
    {
     "name": "stdout",
     "output_type": "stream",
     "text": [
      "Working on from_1520000.parquet\n"
     ]
    },
    {
     "name": "stderr",
     "output_type": "stream",
     "text": [
      "10000it [03:43, 44.84it/s]\n",
      "10000it [00:00, 12030.21it/s]\n"
     ]
    },
    {
     "name": "stdout",
     "output_type": "stream",
     "text": [
      "Working on from_1530000.parquet\n"
     ]
    },
    {
     "name": "stderr",
     "output_type": "stream",
     "text": [
      "10000it [03:48, 43.71it/s]\n",
      "10000it [00:00, 11808.52it/s]\n"
     ]
    },
    {
     "name": "stdout",
     "output_type": "stream",
     "text": [
      "Working on from_1540000.parquet\n"
     ]
    },
    {
     "name": "stderr",
     "output_type": "stream",
     "text": [
      "10000it [03:47, 43.97it/s]\n",
      "10000it [00:00, 11713.31it/s]\n"
     ]
    },
    {
     "name": "stdout",
     "output_type": "stream",
     "text": [
      "Working on from_1550000.parquet\n"
     ]
    },
    {
     "name": "stderr",
     "output_type": "stream",
     "text": [
      "10000it [03:54, 42.63it/s]\n",
      "10000it [00:00, 11425.09it/s]\n"
     ]
    },
    {
     "name": "stdout",
     "output_type": "stream",
     "text": [
      "Working on from_1560000.parquet\n"
     ]
    },
    {
     "name": "stderr",
     "output_type": "stream",
     "text": [
      "10000it [04:03, 41.13it/s]\n",
      "10000it [00:00, 11993.29it/s]\n"
     ]
    },
    {
     "name": "stdout",
     "output_type": "stream",
     "text": [
      "Working on from_1570000.parquet\n"
     ]
    },
    {
     "name": "stderr",
     "output_type": "stream",
     "text": [
      "10000it [04:11, 39.70it/s]\n",
      "10000it [00:00, 11543.72it/s]\n"
     ]
    },
    {
     "name": "stdout",
     "output_type": "stream",
     "text": [
      "Working on from_1580000.parquet\n"
     ]
    },
    {
     "name": "stderr",
     "output_type": "stream",
     "text": [
      "10000it [04:28, 37.19it/s]\n",
      "10000it [00:00, 11764.26it/s]\n"
     ]
    },
    {
     "name": "stdout",
     "output_type": "stream",
     "text": [
      "Working on from_1590000.parquet\n"
     ]
    },
    {
     "name": "stderr",
     "output_type": "stream",
     "text": [
      "10000it [04:17, 38.86it/s]\n",
      "10000it [00:00, 11183.54it/s]\n"
     ]
    },
    {
     "name": "stdout",
     "output_type": "stream",
     "text": [
      "Working on from_1600000.parquet\n"
     ]
    },
    {
     "name": "stderr",
     "output_type": "stream",
     "text": [
      "10000it [04:08, 40.30it/s]\n",
      "10000it [00:01, 9422.10it/s]\n"
     ]
    },
    {
     "name": "stdout",
     "output_type": "stream",
     "text": [
      "Working on from_1610000.parquet\n"
     ]
    },
    {
     "name": "stderr",
     "output_type": "stream",
     "text": [
      "10000it [04:00, 41.54it/s]\n",
      "10000it [00:00, 11577.94it/s]\n"
     ]
    },
    {
     "name": "stdout",
     "output_type": "stream",
     "text": [
      "Working on from_1620000.parquet\n"
     ]
    },
    {
     "name": "stderr",
     "output_type": "stream",
     "text": [
      "10000it [04:06, 40.52it/s]\n",
      "10000it [00:00, 11580.84it/s]\n"
     ]
    },
    {
     "name": "stdout",
     "output_type": "stream",
     "text": [
      "Working on from_1630000.parquet\n"
     ]
    },
    {
     "name": "stderr",
     "output_type": "stream",
     "text": [
      "10000it [03:45, 44.27it/s]\n",
      "10000it [00:00, 12031.75it/s]\n"
     ]
    },
    {
     "name": "stdout",
     "output_type": "stream",
     "text": [
      "Working on from_1640000.parquet\n"
     ]
    },
    {
     "name": "stderr",
     "output_type": "stream",
     "text": [
      "10000it [03:59, 41.75it/s]\n",
      "10000it [00:00, 10915.98it/s]\n"
     ]
    },
    {
     "name": "stdout",
     "output_type": "stream",
     "text": [
      "Working on from_1650000.parquet\n"
     ]
    },
    {
     "name": "stderr",
     "output_type": "stream",
     "text": [
      "10000it [03:49, 43.55it/s]\n",
      "10000it [00:00, 12131.20it/s]\n"
     ]
    },
    {
     "name": "stdout",
     "output_type": "stream",
     "text": [
      "Working on from_1660000.parquet\n"
     ]
    },
    {
     "name": "stderr",
     "output_type": "stream",
     "text": [
      "10000it [03:44, 44.56it/s]\n",
      "10000it [00:00, 11184.23it/s]\n"
     ]
    },
    {
     "name": "stdout",
     "output_type": "stream",
     "text": [
      "Working on from_1670000.parquet\n"
     ]
    },
    {
     "name": "stderr",
     "output_type": "stream",
     "text": [
      "10000it [03:42, 44.96it/s]\n",
      "10000it [00:00, 12015.03it/s]\n"
     ]
    },
    {
     "name": "stdout",
     "output_type": "stream",
     "text": [
      "Working on from_1680000.parquet\n"
     ]
    },
    {
     "name": "stderr",
     "output_type": "stream",
     "text": [
      "10000it [03:55, 42.44it/s]\n",
      "10000it [00:01, 9647.13it/s]\n"
     ]
    },
    {
     "name": "stdout",
     "output_type": "stream",
     "text": [
      "Working on from_1690000.parquet\n"
     ]
    },
    {
     "name": "stderr",
     "output_type": "stream",
     "text": [
      "10000it [04:12, 39.54it/s]\n",
      "10000it [00:00, 11549.20it/s]\n"
     ]
    },
    {
     "name": "stdout",
     "output_type": "stream",
     "text": [
      "Working on from_1700000.parquet\n"
     ]
    },
    {
     "name": "stderr",
     "output_type": "stream",
     "text": [
      "10000it [04:12, 39.64it/s]\n",
      "10000it [00:00, 11584.08it/s]\n"
     ]
    },
    {
     "name": "stdout",
     "output_type": "stream",
     "text": [
      "Working on from_1710000.parquet\n"
     ]
    },
    {
     "name": "stderr",
     "output_type": "stream",
     "text": [
      "10000it [04:14, 39.36it/s]\n",
      "10000it [00:00, 11697.73it/s]\n"
     ]
    },
    {
     "name": "stdout",
     "output_type": "stream",
     "text": [
      "Working on from_1720000.parquet\n"
     ]
    },
    {
     "name": "stderr",
     "output_type": "stream",
     "text": [
      "10000it [03:57, 42.09it/s]\n",
      "10000it [00:00, 11499.67it/s]\n"
     ]
    },
    {
     "name": "stdout",
     "output_type": "stream",
     "text": [
      "Working on from_1730000.parquet\n"
     ]
    },
    {
     "name": "stderr",
     "output_type": "stream",
     "text": [
      "10000it [03:57, 42.07it/s]\n",
      "10000it [00:01, 9489.89it/s]\n"
     ]
    },
    {
     "name": "stdout",
     "output_type": "stream",
     "text": [
      "Working on from_1740000.parquet\n"
     ]
    },
    {
     "name": "stderr",
     "output_type": "stream",
     "text": [
      "10000it [04:04, 40.97it/s]\n",
      "10000it [00:01, 8790.15it/s]\n"
     ]
    },
    {
     "name": "stdout",
     "output_type": "stream",
     "text": [
      "Working on from_1750000.parquet\n"
     ]
    },
    {
     "name": "stderr",
     "output_type": "stream",
     "text": [
      "10000it [03:52, 42.94it/s]\n",
      "10000it [00:00, 11241.33it/s]\n"
     ]
    },
    {
     "name": "stdout",
     "output_type": "stream",
     "text": [
      "Working on from_1760000.parquet\n"
     ]
    },
    {
     "name": "stderr",
     "output_type": "stream",
     "text": [
      "10000it [03:48, 43.77it/s]\n",
      "10000it [00:01, 9966.01it/s]\n"
     ]
    },
    {
     "name": "stdout",
     "output_type": "stream",
     "text": [
      "Working on from_1770000.parquet\n"
     ]
    },
    {
     "name": "stderr",
     "output_type": "stream",
     "text": [
      "10000it [03:59, 41.81it/s]\n",
      "10000it [00:00, 11731.48it/s]\n"
     ]
    },
    {
     "name": "stdout",
     "output_type": "stream",
     "text": [
      "Working on from_1780000.parquet\n"
     ]
    },
    {
     "name": "stderr",
     "output_type": "stream",
     "text": [
      "10000it [03:46, 44.08it/s]\n",
      "10000it [00:00, 11466.03it/s]\n"
     ]
    },
    {
     "name": "stdout",
     "output_type": "stream",
     "text": [
      "Working on from_1790000.parquet\n"
     ]
    },
    {
     "name": "stderr",
     "output_type": "stream",
     "text": [
      "10000it [03:52, 43.00it/s]\n",
      "10000it [00:00, 11626.44it/s]\n"
     ]
    },
    {
     "name": "stdout",
     "output_type": "stream",
     "text": [
      "Working on from_1800000.parquet\n"
     ]
    },
    {
     "name": "stderr",
     "output_type": "stream",
     "text": [
      "10000it [03:52, 43.00it/s]\n",
      "10000it [00:00, 11147.43it/s]\n"
     ]
    },
    {
     "name": "stdout",
     "output_type": "stream",
     "text": [
      "Working on from_1810000.parquet\n"
     ]
    },
    {
     "name": "stderr",
     "output_type": "stream",
     "text": [
      "10000it [03:55, 42.48it/s]\n",
      "10000it [00:00, 10770.41it/s]\n"
     ]
    },
    {
     "name": "stdout",
     "output_type": "stream",
     "text": [
      "Working on from_1820000.parquet\n"
     ]
    },
    {
     "name": "stderr",
     "output_type": "stream",
     "text": [
      "10000it [03:51, 43.27it/s]\n",
      "10000it [00:00, 11815.23it/s]\n"
     ]
    },
    {
     "name": "stdout",
     "output_type": "stream",
     "text": [
      "Working on from_1830000.parquet\n"
     ]
    },
    {
     "name": "stderr",
     "output_type": "stream",
     "text": [
      "10000it [03:55, 42.54it/s]\n",
      "10000it [00:00, 11100.50it/s]\n"
     ]
    },
    {
     "name": "stdout",
     "output_type": "stream",
     "text": [
      "Working on from_1840000.parquet\n"
     ]
    },
    {
     "name": "stderr",
     "output_type": "stream",
     "text": [
      "10000it [03:46, 44.14it/s]\n",
      "10000it [00:00, 12120.70it/s]\n"
     ]
    },
    {
     "name": "stdout",
     "output_type": "stream",
     "text": [
      "Working on from_1850000.parquet\n"
     ]
    },
    {
     "name": "stderr",
     "output_type": "stream",
     "text": [
      "10000it [03:42, 44.96it/s]\n",
      "10000it [00:00, 11380.22it/s]\n"
     ]
    },
    {
     "name": "stdout",
     "output_type": "stream",
     "text": [
      "Working on from_1860000.parquet\n"
     ]
    },
    {
     "name": "stderr",
     "output_type": "stream",
     "text": [
      "10000it [03:41, 45.14it/s]\n",
      "10000it [00:00, 12316.99it/s]\n"
     ]
    },
    {
     "name": "stdout",
     "output_type": "stream",
     "text": [
      "Working on from_1870000.parquet\n"
     ]
    },
    {
     "name": "stderr",
     "output_type": "stream",
     "text": [
      "10000it [03:47, 44.04it/s]\n",
      "10000it [00:00, 11015.22it/s]\n"
     ]
    },
    {
     "name": "stdout",
     "output_type": "stream",
     "text": [
      "Working on from_1880000.parquet\n"
     ]
    },
    {
     "name": "stderr",
     "output_type": "stream",
     "text": [
      "10000it [03:51, 43.28it/s]\n",
      "10000it [00:00, 12576.30it/s]\n"
     ]
    },
    {
     "name": "stdout",
     "output_type": "stream",
     "text": [
      "Working on from_1890000.parquet\n"
     ]
    },
    {
     "name": "stderr",
     "output_type": "stream",
     "text": [
      "10000it [03:54, 42.71it/s]\n",
      "10000it [00:00, 11448.65it/s]\n"
     ]
    },
    {
     "name": "stdout",
     "output_type": "stream",
     "text": [
      "Working on from_1900000.parquet\n"
     ]
    },
    {
     "name": "stderr",
     "output_type": "stream",
     "text": [
      "10000it [04:27, 37.44it/s]\n",
      "10000it [00:00, 11837.79it/s]\n"
     ]
    },
    {
     "name": "stdout",
     "output_type": "stream",
     "text": [
      "Working on from_1910000.parquet\n"
     ]
    },
    {
     "name": "stderr",
     "output_type": "stream",
     "text": [
      "10000it [03:45, 44.40it/s]\n",
      "10000it [00:00, 12081.65it/s]\n"
     ]
    },
    {
     "name": "stdout",
     "output_type": "stream",
     "text": [
      "Working on from_1920000.parquet\n"
     ]
    },
    {
     "name": "stderr",
     "output_type": "stream",
     "text": [
      "10000it [03:51, 43.20it/s]\n",
      "10000it [00:00, 11780.24it/s]\n"
     ]
    },
    {
     "name": "stdout",
     "output_type": "stream",
     "text": [
      "Working on from_1930000.parquet\n"
     ]
    },
    {
     "name": "stderr",
     "output_type": "stream",
     "text": [
      "10000it [03:52, 42.95it/s]\n",
      "10000it [00:00, 11797.44it/s]\n"
     ]
    },
    {
     "name": "stdout",
     "output_type": "stream",
     "text": [
      "Working on from_1940000.parquet\n"
     ]
    },
    {
     "name": "stderr",
     "output_type": "stream",
     "text": [
      "10000it [04:02, 41.25it/s]\n",
      "10000it [00:00, 11174.06it/s]\n"
     ]
    },
    {
     "name": "stdout",
     "output_type": "stream",
     "text": [
      "Working on from_1950000.parquet\n"
     ]
    },
    {
     "name": "stderr",
     "output_type": "stream",
     "text": [
      "10000it [04:16, 38.94it/s]\n",
      "10000it [00:01, 9804.54it/s]\n"
     ]
    },
    {
     "name": "stdout",
     "output_type": "stream",
     "text": [
      "Working on from_1960000.parquet\n"
     ]
    },
    {
     "name": "stderr",
     "output_type": "stream",
     "text": [
      "10000it [04:21, 38.30it/s]\n",
      "10000it [00:00, 11980.02it/s]\n"
     ]
    },
    {
     "name": "stdout",
     "output_type": "stream",
     "text": [
      "Working on from_1970000.parquet\n"
     ]
    },
    {
     "name": "stderr",
     "output_type": "stream",
     "text": [
      "10000it [04:08, 40.31it/s]\n",
      "10000it [00:00, 11737.66it/s]\n"
     ]
    },
    {
     "name": "stdout",
     "output_type": "stream",
     "text": [
      "Working on from_1980000.parquet\n"
     ]
    },
    {
     "name": "stderr",
     "output_type": "stream",
     "text": [
      "10000it [04:21, 38.30it/s]\n",
      "10000it [00:01, 9707.82it/s]\n"
     ]
    },
    {
     "name": "stdout",
     "output_type": "stream",
     "text": [
      "Working on from_1990000.parquet\n"
     ]
    },
    {
     "name": "stderr",
     "output_type": "stream",
     "text": [
      "10000it [03:56, 42.36it/s]\n",
      "10000it [00:00, 11488.77it/s]\n"
     ]
    },
    {
     "name": "stdout",
     "output_type": "stream",
     "text": [
      "Working on from_2000000.parquet\n"
     ]
    },
    {
     "name": "stderr",
     "output_type": "stream",
     "text": [
      "10000it [04:01, 41.43it/s]\n",
      "10000it [00:00, 11699.08it/s]\n"
     ]
    },
    {
     "name": "stdout",
     "output_type": "stream",
     "text": [
      "Working on from_2010000.parquet\n"
     ]
    },
    {
     "name": "stderr",
     "output_type": "stream",
     "text": [
      "10000it [04:42, 35.46it/s]\n",
      "10000it [00:00, 11355.59it/s]\n"
     ]
    },
    {
     "name": "stdout",
     "output_type": "stream",
     "text": [
      "Working on from_2020000.parquet\n"
     ]
    },
    {
     "name": "stderr",
     "output_type": "stream",
     "text": [
      "10000it [04:10, 39.90it/s]\n",
      "10000it [00:00, 11368.46it/s]\n"
     ]
    },
    {
     "name": "stdout",
     "output_type": "stream",
     "text": [
      "Working on from_2030000.parquet\n"
     ]
    },
    {
     "name": "stderr",
     "output_type": "stream",
     "text": [
      "10000it [03:59, 41.78it/s]\n",
      "10000it [00:00, 11800.63it/s]\n"
     ]
    },
    {
     "name": "stdout",
     "output_type": "stream",
     "text": [
      "Working on from_2040000.parquet\n"
     ]
    },
    {
     "name": "stderr",
     "output_type": "stream",
     "text": [
      "10000it [04:08, 40.20it/s]\n",
      "10000it [00:01, 8900.36it/s]\n"
     ]
    },
    {
     "name": "stdout",
     "output_type": "stream",
     "text": [
      "Working on from_2050000.parquet\n"
     ]
    },
    {
     "name": "stderr",
     "output_type": "stream",
     "text": [
      "10000it [04:06, 40.51it/s]\n",
      "10000it [00:00, 11600.62it/s]\n"
     ]
    },
    {
     "name": "stdout",
     "output_type": "stream",
     "text": [
      "Working on from_2060000.parquet\n"
     ]
    },
    {
     "name": "stderr",
     "output_type": "stream",
     "text": [
      "10000it [04:07, 40.40it/s]\n",
      "10000it [00:00, 11170.50it/s]\n"
     ]
    },
    {
     "name": "stdout",
     "output_type": "stream",
     "text": [
      "Working on from_2070000.parquet\n"
     ]
    },
    {
     "name": "stderr",
     "output_type": "stream",
     "text": [
      "534it [00:12, 43.85it/s]\n",
      "534it [00:00, 9611.42it/s]\n",
      "100%|███████████████████████████████████████████████████████████████████████████████| 209/209 [1:03:07<00:00, 18.12s/it]\n"
     ]
    }
   ],
   "source": [
    "num_samples_per_split, num_rows_per_file = None, 10000\n",
    "# num_samples_per_split, num_rows_per_file = 100, 200 # for debugging\n",
    "\n",
    "np.random.seed(10)\n",
    "data = read_pt_dataset(num_samples_per_split) # columns: code, text, lang\n",
    "data = preprocess(data)\n",
    "add_structure(data) # columns: ast_leaves, dfg_edges, ast_leaf_tokens, ast_leaf_ranges\n",
    "data['code_tokens'] = tokenize_codes_texts(list(data['code']))\n",
    "data['text_tokens'] = tokenize_codes_texts(list(data['text']))\n",
    "length_stats(data['code_tokens'], 'Distribution of #code_tokens')\n",
    "length_stats(data['text_tokens'], 'Distribution of #text_tokens')\n",
    "get_code_tokens_ranges(data) # columns: code_token_ranges -> list of (start,end) one for each code_token\n",
    "data.drop(columns=['code', 'text'], inplace=True)\n",
    "get_leaf_code_token_indices(data)\n",
    "data.drop(columns=['ast_leaf_tokens', 'ast_leaf_ranges', 'code_tokens_ranges'], inplace=True)\n",
    "for col in ['code_tokens', 'text_tokens']:\n",
    "    data[col] = data[col].progress_apply(lambda l:','.join(list(map(str,l))))\n",
    "data = data.sample(frac=1).reset_index(drop=True)\n",
    "# columns -> ['lang', 'ast_leaves', 'dfg_edges', 'code_tokens', 'text_tokens', 'ast_leaf_code_token_idxs']\n",
    "\n",
    "# do memory intensive part in chunks\n",
    "save_dir = 'data/pretrain/'\n",
    "os.makedirs(save_dir, exist_ok=True)\n",
    "all_node_types = set()\n",
    "for start in range(0,len(data),num_rows_per_file):\n",
    "    print ('Working on from_'+str(start)+'.parquet')\n",
    "    sub_data = data.iloc[start:start+num_rows_per_file].copy() # copy so that edits are not on data\n",
    "    sub_node_types = get_ast_lr_paths_and_ll_sim(sub_data)\n",
    "    all_node_types.update(sub_node_types)\n",
    "    process_dfg_edges(sub_data)\n",
    "    sub_data = sub_data[['code_tokens', 'text_tokens', 'lang', \n",
    "                         'ast_leaf_code_token_idxs', 'll_sims', 'lr_paths_types', \n",
    "                         'dfg_node_code_token_idxs', 'dfg_edges']]\n",
    "    for col in ['ast_leaf_code_token_idxs', 'lr_paths_types', 'dfg_node_code_token_idxs', 'dfg_edges']:\n",
    "        sub_data[col] = sub_data[col].apply(str)\n",
    "    sub_data.to_parquet(save_dir+'from_'+str(start)+'.parquet', engine='fastparquet', row_group_offsets=100)\n",
    "del data\n",
    "    \n",
    "# convert node types to indices\n",
    "all_node_types = sorted(list(all_node_types))\n",
    "node_type_to_ind = {t:i for i,t in enumerate(all_node_types)}\n",
    "pickle.dump(all_node_types, open(save_dir+'all_node_types.pkl', 'wb'))\n",
    "\n",
    "for filename in tqdm(os.listdir(save_dir)):\n",
    "    if filename.startswith('from_'):\n",
    "        sub_data = pd.read_parquet(save_dir+filename, engine='fastparquet')\n",
    "        sub_data['lr_paths_types'] = sub_data['lr_paths_types'].apply(\n",
    "                        lambda s:str([[node_type_to_ind[t] for t in path] \n",
    "                                      for path in parse_list_of_lists(s, type_=str)]))\n",
    "        sub_data.to_parquet(save_dir+filename, engine='fastparquet', row_group_offsets=100)"
   ]
  },
  {
   "cell_type": "code",
   "execution_count": 38,
   "id": "94010f34",
   "metadata": {
    "scrolled": true
   },
   "outputs": [
    {
     "name": "stderr",
     "output_type": "stream",
     "text": [
      "all_node_types.pkl: 100%|███████████████████████████████████████████████████████████| 209/209 [2:42:50<00:00, 46.75s/it]\n"
     ]
    }
   ],
   "source": [
    "# Reduce memory taken by ll_sims column by storing only upper triangles w/o diagnoals.\n",
    "def upper_triangle(s):\n",
    "    rows = s.split(';')[:-1] \n",
    "    s = ''\n",
    "    for i,row in enumerate(rows):\n",
    "        s += ','.join(row.split(',')[i+1:]) + ';'\n",
    "    return s[:-1]\n",
    "pbar = tqdm(os.listdir(save_dir))\n",
    "for filename in pbar:\n",
    "    pbar.set_description(filename)\n",
    "    if filename.startswith('from_'):\n",
    "        sub_data = pd.read_parquet(save_dir+filename, engine='fastparquet')\n",
    "        sub_data['ll_sims'] = sub_data['ll_sims'].apply(upper_triangle)\n",
    "        sub_data.to_parquet(save_dir+filename, engine='fastparquet', row_group_offsets=100)"
   ]
  },
  {
   "cell_type": "code",
   "execution_count": 40,
   "id": "41408c02",
   "metadata": {
    "scrolled": true
   },
   "outputs": [
    {
     "name": "stderr",
     "output_type": "stream",
     "text": [
      "100%|█████████████████████████████████████████████████████████████████████████████████| 209/209 [08:49<00:00,  2.53s/it]\n",
      "100%|███████████████████████████████████████████████████████████████████████| 2070534/2070534 [11:46<00:00, 2930.60it/s]\n"
     ]
    },
    {
     "name": "stdout",
     "output_type": "stream",
     "text": [
      "Distrubution of fraction of leaf-root paths with ERROR node in one code\n"
     ]
    },
    {
     "data": {
      "image/png": "[encoded data removed]",
      "text/plain": [
       "<Figure size 432x288 with 1 Axes>"
      ]
     },
     "metadata": {
      "needs_background": "light"
     },
     "output_type": "display_data"
    },
    {
     "name": "stdout",
     "output_type": "stream",
     "text": [
      "Distrubution of average AST depth\n"
     ]
    },
    {
     "data": {
      "image/png": "[encoded data removed]",
      "text/plain": [
       "<Figure size 432x288 with 1 Axes>"
      ]
     },
     "metadata": {
      "needs_background": "light"
     },
     "output_type": "display_data"
    },
    {
     "name": "stdout",
     "output_type": "stream",
     "text": [
      "Distrubution of # ast leaves per code\n"
     ]
    },
    {
     "data": {
      "image/png": "[encoded data removed]",
      "text/plain": [
       "<Figure size 432x288 with 1 Axes>"
      ]
     },
     "metadata": {
      "needs_background": "light"
     },
     "output_type": "display_data"
    },
    {
     "name": "stdout",
     "output_type": "stream",
     "text": [
      "Distrubution of # dfg nodes per code\n"
     ]
    },
    {
     "data": {
      "image/png": "[encoded data removed]",
      "text/plain": [
       "<Figure size 432x288 with 1 Axes>"
      ]
     },
     "metadata": {
      "needs_background": "light"
     },
     "output_type": "display_data"
    },
    {
     "name": "stdout",
     "output_type": "stream",
     "text": [
      "Distrubution of # dfg edges per code\n"
     ]
    },
    {
     "data": {
      "image/png": "[encoded data removed]",
      "text/plain": [
       "<Figure size 432x288 with 1 Axes>"
      ]
     },
     "metadata": {
      "needs_background": "light"
     },
     "output_type": "display_data"
    }
   ],
   "source": [
    "def some_more_stats(data):\n",
    "    data['lr_paths_types'] = data['lr_paths_types'].progress_apply(lambda s:parse_list_of_lists(s, type_=int))\n",
    "    node_types= pickle.load(open('data/pretrain/all_node_types.pkl','rb'))\n",
    "    if 'ERROR' in node_types:\n",
    "        error_node_idx = node_types.index('ERROR')\n",
    "        num_error_nodes = data['lr_paths_types'].apply(lambda paths:np.mean([(np.array(path)==error_node_idx).max() \n",
    "                                                                      for path in paths]))\n",
    "        print ('Distrubution of fraction of leaf-root paths with ERROR node in one code')\n",
    "        length_stats(num_error_nodes)\n",
    "    print ('Distrubution of AST depth')\n",
    "    length_stats(data['lr_paths_types'].apply(lambda paths:max([len(p) for p in paths])))        \n",
    "        \n",
    "    print ('Distrubution of # ast leaves per code')\n",
    "    length_stats(data['ast_leaf_code_token_idxs'].apply(lambda s:1+s.count('],')))\n",
    "    print ('Distrubution of # dfg nodes per code')\n",
    "    length_stats(data['dfg_node_code_token_idxs'].apply(lambda s:1+s.count('],')))\n",
    "    print ('Distrubution of # dfg edges per code')\n",
    "    def num_dfg_edges(s):\n",
    "        if s=='[]':\n",
    "            return 0\n",
    "        return sum([t.split(', ',maxsplit=1)[1].count(',')+1 for t in s[1:-2].split('),')])\n",
    "    length_stats(data['dfg_edges'].apply(num_dfg_edges))\n",
    "    \n",
    "data = []\n",
    "save_dir = 'data/pretrain/'\n",
    "for filename in tqdm(os.listdir(save_dir)):\n",
    "    if filename.startswith('from_'):\n",
    "        sub_data = pd.read_parquet(save_dir+filename, engine='fastparquet')\n",
    "        data.append(sub_data)\n",
    "        \n",
    "data = pd.concat(data)\n",
    "    \n",
    "some_more_stats(data)"
   ]
  },
  {
   "cell_type": "code",
   "execution_count": null,
   "id": "66fe5e26",
   "metadata": {
    "scrolled": true
   },
   "outputs": [],
   "source": []
  },
  {
   "cell_type": "code",
   "execution_count": 9,
   "id": "af0eae30",
   "metadata": {},
   "outputs": [
    {
     "data": {
      "text/plain": [
       "3599.548642"
      ]
     },
     "execution_count": 9,
     "metadata": {},
     "output_type": "execute_result"
    }
   ],
   "source": [
    "from sys import getsizeof\n",
    "getsizeof(data)/1e6"
   ]
  },
  {
   "cell_type": "code",
   "execution_count": 11,
   "id": "8fca808d",
   "metadata": {
    "scrolled": true
   },
   "outputs": [
    {
     "name": "stdout",
     "output_type": "stream",
     "text": [
      "code_tokens 8.202777\n",
      "text_tokens 2.978546\n",
      "lang 0.612203\n",
      "ast_leaf_code_token_idxs 10.205631\n",
      "ll_sims 3559.75692\n",
      "lr_paths_types 10.762512\n",
      "dfg_node_code_token_idxs 3.453409\n",
      "dfg_edges 3.577652\n"
     ]
    }
   ],
   "source": [
    "for col in data.columns:\n",
    "    print (col, getsizeof(data[col])/1e6)"
   ]
  },
  {
   "cell_type": "code",
   "execution_count": null,
   "id": "a67f24be",
   "metadata": {
    "scrolled": true
   },
   "outputs": [],
   "source": []
  },
  {
   "cell_type": "code",
   "execution_count": null,
   "id": "675d18b7",
   "metadata": {},
   "outputs": [],
   "source": []
  },
  {
   "cell_type": "code",
   "execution_count": null,
   "id": "74151ca6",
   "metadata": {},
   "outputs": [],
   "source": []
  },
  {
   "cell_type": "code",
   "execution_count": null,
   "id": "a5ed4583",
   "metadata": {},
   "outputs": [],
   "source": []
  },
  {
   "cell_type": "code",
   "execution_count": null,
   "id": "0a38bdf6",
   "metadata": {
    "scrolled": true
   },
   "outputs": [],
   "source": []
  },
  {
   "cell_type": "code",
   "execution_count": null,
   "id": "f605eadc",
   "metadata": {},
   "outputs": [],
   "source": []
  },
  {
   "cell_type": "code",
   "execution_count": null,
   "id": "c6d694f0",
   "metadata": {},
   "outputs": [],
   "source": []
  },
  {
   "cell_type": "code",
   "execution_count": null,
   "id": "39cc291e",
   "metadata": {},
   "outputs": [],
   "source": [
    "    "
   ]
  },
  {
   "cell_type": "code",
   "execution_count": null,
   "id": "0ffa8843",
   "metadata": {
    "scrolled": true
   },
   "outputs": [],
   "source": []
  },
  {
   "cell_type": "code",
   "execution_count": null,
   "id": "e98ecdb8",
   "metadata": {
    "scrolled": true
   },
   "outputs": [],
   "source": []
  },
  {
   "cell_type": "code",
   "execution_count": null,
   "id": "97cded0f",
   "metadata": {},
   "outputs": [],
   "source": []
  },
  {
   "cell_type": "code",
   "execution_count": null,
   "id": "ee23ec0c",
   "metadata": {},
   "outputs": [],
   "source": []
  }
 ],
 "metadata": {
  "kernelspec": {
   "display_name": "structcoder",
   "language": "python",
   "name": "structcoder"
  },
  "language_info": {
   "codemirror_mode": {
    "name": "ipython",
    "version": 3
   },
   "file_extension": ".py",
   "mimetype": "text/x-python",
   "name": "python",
   "nbconvert_exporter": "python",
   "pygments_lexer": "ipython3",
   "version": "3.10.8"
  }
 },
 "nbformat": 4,
 "nbformat_minor": 5
}
